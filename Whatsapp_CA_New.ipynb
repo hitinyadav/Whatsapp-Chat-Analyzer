{
 "cells": [
  {
   "cell_type": "code",
   "execution_count": 1,
   "id": "9e6e0845",
   "metadata": {},
   "outputs": [],
   "source": [
    "import numpy as np\n",
    "import pandas as pd\n",
    "import matplotlib.pyplot as plt\n",
    "import seaborn as sns\n",
    "import nltk"
   ]
  },
  {
   "cell_type": "code",
   "execution_count": 2,
   "id": "a908f0a5",
   "metadata": {},
   "outputs": [],
   "source": [
    "df = pd.read_table('WhatsApp Chat with 5 yaar.txt',header=None)"
   ]
  },
  {
   "cell_type": "code",
   "execution_count": 3,
   "id": "9e6c1943",
   "metadata": {},
   "outputs": [
    {
     "data": {
      "text/html": [
       "<div>\n",
       "<style scoped>\n",
       "    .dataframe tbody tr th:only-of-type {\n",
       "        vertical-align: middle;\n",
       "    }\n",
       "\n",
       "    .dataframe tbody tr th {\n",
       "        vertical-align: top;\n",
       "    }\n",
       "\n",
       "    .dataframe thead th {\n",
       "        text-align: right;\n",
       "    }\n",
       "</style>\n",
       "<table border=\"1\" class=\"dataframe\">\n",
       "  <thead>\n",
       "    <tr style=\"text-align: right;\">\n",
       "      <th></th>\n",
       "      <th>0</th>\n",
       "    </tr>\n",
       "  </thead>\n",
       "  <tbody>\n",
       "    <tr>\n",
       "      <th>0</th>\n",
       "      <td>25/08/2021, 1:46 pm - Messages and calls are e...</td>\n",
       "    </tr>\n",
       "    <tr>\n",
       "      <th>1</th>\n",
       "      <td>25/08/2021, 1:46 pm - You created group \"Abc\"</td>\n",
       "    </tr>\n",
       "    <tr>\n",
       "      <th>2</th>\n",
       "      <td>25/08/2021, 1:48 pm - You changed the subject ...</td>\n",
       "    </tr>\n",
       "    <tr>\n",
       "      <th>3</th>\n",
       "      <td>25/08/2021, 1:50 pm - Yuvraj Fis Team: Hah bha...</td>\n",
       "    </tr>\n",
       "    <tr>\n",
       "      <th>4</th>\n",
       "      <td>25/08/2021, 1:50 pm - Yuvraj Fis Team: Teen pa...</td>\n",
       "    </tr>\n",
       "    <tr>\n",
       "      <th>...</th>\n",
       "      <td>...</td>\n",
       "    </tr>\n",
       "    <tr>\n",
       "      <th>567</th>\n",
       "      <td>03/04/2022, 8:09 pm - Yuvraj Fis Team: Aaj @91...</td>\n",
       "    </tr>\n",
       "    <tr>\n",
       "      <th>568</th>\n",
       "      <td>03/04/2022, 8:09 pm - Yuvraj Fis Team: &lt;Media ...</td>\n",
       "    </tr>\n",
       "    <tr>\n",
       "      <th>569</th>\n",
       "      <td>06/04/2022, 12:13 am - Sakshi Fis Team: Kha ho...</td>\n",
       "    </tr>\n",
       "    <tr>\n",
       "      <th>570</th>\n",
       "      <td>06/04/2022, 12:30 am - Priyanshu Fis Team: &lt;Me...</td>\n",
       "    </tr>\n",
       "    <tr>\n",
       "      <th>571</th>\n",
       "      <td>06/04/2022, 10:42 am - Yuvraj Fis Team changed...</td>\n",
       "    </tr>\n",
       "  </tbody>\n",
       "</table>\n",
       "<p>572 rows × 1 columns</p>\n",
       "</div>"
      ],
      "text/plain": [
       "                                                     0\n",
       "0    25/08/2021, 1:46 pm - Messages and calls are e...\n",
       "1        25/08/2021, 1:46 pm - You created group \"Abc\"\n",
       "2    25/08/2021, 1:48 pm - You changed the subject ...\n",
       "3    25/08/2021, 1:50 pm - Yuvraj Fis Team: Hah bha...\n",
       "4    25/08/2021, 1:50 pm - Yuvraj Fis Team: Teen pa...\n",
       "..                                                 ...\n",
       "567  03/04/2022, 8:09 pm - Yuvraj Fis Team: Aaj @91...\n",
       "568  03/04/2022, 8:09 pm - Yuvraj Fis Team: <Media ...\n",
       "569  06/04/2022, 12:13 am - Sakshi Fis Team: Kha ho...\n",
       "570  06/04/2022, 12:30 am - Priyanshu Fis Team: <Me...\n",
       "571  06/04/2022, 10:42 am - Yuvraj Fis Team changed...\n",
       "\n",
       "[572 rows x 1 columns]"
      ]
     },
     "execution_count": 3,
     "metadata": {},
     "output_type": "execute_result"
    }
   ],
   "source": [
    "df"
   ]
  },
  {
   "cell_type": "code",
   "execution_count": 4,
   "id": "0d495fbd",
   "metadata": {},
   "outputs": [],
   "source": [
    "def split_time(a):\n",
    "    return a.split('-')[0]"
   ]
  },
  {
   "cell_type": "code",
   "execution_count": 5,
   "id": "83339b8f",
   "metadata": {},
   "outputs": [],
   "source": [
    "df['time'] = df[0].apply(split_time)"
   ]
  },
  {
   "cell_type": "code",
   "execution_count": 6,
   "id": "ee8b5339",
   "metadata": {},
   "outputs": [],
   "source": [
    "def split_msg(a):\n",
    "    l = a.split('-')[1:]\n",
    "    \n",
    "    return ' '.join(l)"
   ]
  },
  {
   "cell_type": "code",
   "execution_count": 7,
   "id": "dee6d60c",
   "metadata": {},
   "outputs": [],
   "source": [
    "df['msg'] = df[0].apply(split_msg)"
   ]
  },
  {
   "cell_type": "code",
   "execution_count": 8,
   "id": "39ebc594",
   "metadata": {},
   "outputs": [],
   "source": [
    "def user(a):\n",
    "    if ':' in a:\n",
    "        return a.split(':')[0]\n",
    "    else:\n",
    "        return 'Group_Notification'"
   ]
  },
  {
   "cell_type": "code",
   "execution_count": 9,
   "id": "20e13ad7",
   "metadata": {},
   "outputs": [],
   "source": [
    "df['user'] = df['msg'].apply(user)"
   ]
  },
  {
   "cell_type": "code",
   "execution_count": 10,
   "id": "2ff23441",
   "metadata": {},
   "outputs": [],
   "source": [
    "def user_msg(a):\n",
    "    if ':' in a:\n",
    "        l= a.split(':')[1:]\n",
    "        return ' '.join(l)\n",
    "    else:\n",
    "        return a"
   ]
  },
  {
   "cell_type": "code",
   "execution_count": 11,
   "id": "f1267b94",
   "metadata": {},
   "outputs": [],
   "source": [
    "df['msg1'] = df['msg'].apply(user_msg)"
   ]
  },
  {
   "cell_type": "code",
   "execution_count": 12,
   "id": "ed5202a0",
   "metadata": {},
   "outputs": [
    {
     "data": {
      "text/html": [
       "<div>\n",
       "<style scoped>\n",
       "    .dataframe tbody tr th:only-of-type {\n",
       "        vertical-align: middle;\n",
       "    }\n",
       "\n",
       "    .dataframe tbody tr th {\n",
       "        vertical-align: top;\n",
       "    }\n",
       "\n",
       "    .dataframe thead th {\n",
       "        text-align: right;\n",
       "    }\n",
       "</style>\n",
       "<table border=\"1\" class=\"dataframe\">\n",
       "  <thead>\n",
       "    <tr style=\"text-align: right;\">\n",
       "      <th></th>\n",
       "      <th>0</th>\n",
       "      <th>time</th>\n",
       "      <th>msg</th>\n",
       "      <th>user</th>\n",
       "      <th>msg1</th>\n",
       "    </tr>\n",
       "  </thead>\n",
       "  <tbody>\n",
       "    <tr>\n",
       "      <th>0</th>\n",
       "      <td>25/08/2021, 1:46 pm - Messages and calls are e...</td>\n",
       "      <td>25/08/2021, 1:46 pm</td>\n",
       "      <td>Messages and calls are end to end encrypted. ...</td>\n",
       "      <td>Group_Notification</td>\n",
       "      <td>Messages and calls are end to end encrypted. ...</td>\n",
       "    </tr>\n",
       "    <tr>\n",
       "      <th>1</th>\n",
       "      <td>25/08/2021, 1:46 pm - You created group \"Abc\"</td>\n",
       "      <td>25/08/2021, 1:46 pm</td>\n",
       "      <td>You created group \"Abc\"</td>\n",
       "      <td>Group_Notification</td>\n",
       "      <td>You created group \"Abc\"</td>\n",
       "    </tr>\n",
       "    <tr>\n",
       "      <th>2</th>\n",
       "      <td>25/08/2021, 1:48 pm - You changed the subject ...</td>\n",
       "      <td>25/08/2021, 1:48 pm</td>\n",
       "      <td>You changed the subject from \"Abc\" to \"Teen P...</td>\n",
       "      <td>Group_Notification</td>\n",
       "      <td>You changed the subject from \"Abc\" to \"Teen P...</td>\n",
       "    </tr>\n",
       "    <tr>\n",
       "      <th>3</th>\n",
       "      <td>25/08/2021, 1:50 pm - Yuvraj Fis Team: Hah bha...</td>\n",
       "      <td>25/08/2021, 1:50 pm</td>\n",
       "      <td>Yuvraj Fis Team: Hah bhai naam sahe hai</td>\n",
       "      <td>Yuvraj Fis Team</td>\n",
       "      <td>Hah bhai naam sahe hai</td>\n",
       "    </tr>\n",
       "    <tr>\n",
       "      <th>4</th>\n",
       "      <td>25/08/2021, 1:50 pm - Yuvraj Fis Team: Teen pa...</td>\n",
       "      <td>25/08/2021, 1:50 pm</td>\n",
       "      <td>Yuvraj Fis Team: Teen parinde 😂😜😂😜😂</td>\n",
       "      <td>Yuvraj Fis Team</td>\n",
       "      <td>Teen parinde 😂😜😂😜😂</td>\n",
       "    </tr>\n",
       "    <tr>\n",
       "      <th>...</th>\n",
       "      <td>...</td>\n",
       "      <td>...</td>\n",
       "      <td>...</td>\n",
       "      <td>...</td>\n",
       "      <td>...</td>\n",
       "    </tr>\n",
       "    <tr>\n",
       "      <th>567</th>\n",
       "      <td>03/04/2022, 8:09 pm - Yuvraj Fis Team: Aaj @91...</td>\n",
       "      <td>03/04/2022, 8:09 pm</td>\n",
       "      <td>Yuvraj Fis Team: Aaj @919431571432 @919773577...</td>\n",
       "      <td>Yuvraj Fis Team</td>\n",
       "      <td>Aaj @919431571432 @919773577656  tum dono ne ...</td>\n",
       "    </tr>\n",
       "    <tr>\n",
       "      <th>568</th>\n",
       "      <td>03/04/2022, 8:09 pm - Yuvraj Fis Team: &lt;Media ...</td>\n",
       "      <td>03/04/2022, 8:09 pm</td>\n",
       "      <td>Yuvraj Fis Team: &lt;Media omitted&gt;</td>\n",
       "      <td>Yuvraj Fis Team</td>\n",
       "      <td>&lt;Media omitted&gt;</td>\n",
       "    </tr>\n",
       "    <tr>\n",
       "      <th>569</th>\n",
       "      <td>06/04/2022, 12:13 am - Sakshi Fis Team: Kha ho...</td>\n",
       "      <td>06/04/2022, 12:13 am</td>\n",
       "      <td>Sakshi Fis Team: Kha ho sablog ?? @9197735776...</td>\n",
       "      <td>Sakshi Fis Team</td>\n",
       "      <td>Kha ho sablog ?? @919773577656 @918882992849 ...</td>\n",
       "    </tr>\n",
       "    <tr>\n",
       "      <th>570</th>\n",
       "      <td>06/04/2022, 12:30 am - Priyanshu Fis Team: &lt;Me...</td>\n",
       "      <td>06/04/2022, 12:30 am</td>\n",
       "      <td>Priyanshu Fis Team: &lt;Media omitted&gt;</td>\n",
       "      <td>Priyanshu Fis Team</td>\n",
       "      <td>&lt;Media omitted&gt;</td>\n",
       "    </tr>\n",
       "    <tr>\n",
       "      <th>571</th>\n",
       "      <td>06/04/2022, 10:42 am - Yuvraj Fis Team changed...</td>\n",
       "      <td>06/04/2022, 10:42 am</td>\n",
       "      <td>Yuvraj Fis Team changed this group's icon</td>\n",
       "      <td>Group_Notification</td>\n",
       "      <td>Yuvraj Fis Team changed this group's icon</td>\n",
       "    </tr>\n",
       "  </tbody>\n",
       "</table>\n",
       "<p>572 rows × 5 columns</p>\n",
       "</div>"
      ],
      "text/plain": [
       "                                                     0                   time  \\\n",
       "0    25/08/2021, 1:46 pm - Messages and calls are e...   25/08/2021, 1:46 pm    \n",
       "1        25/08/2021, 1:46 pm - You created group \"Abc\"   25/08/2021, 1:46 pm    \n",
       "2    25/08/2021, 1:48 pm - You changed the subject ...   25/08/2021, 1:48 pm    \n",
       "3    25/08/2021, 1:50 pm - Yuvraj Fis Team: Hah bha...   25/08/2021, 1:50 pm    \n",
       "4    25/08/2021, 1:50 pm - Yuvraj Fis Team: Teen pa...   25/08/2021, 1:50 pm    \n",
       "..                                                 ...                    ...   \n",
       "567  03/04/2022, 8:09 pm - Yuvraj Fis Team: Aaj @91...   03/04/2022, 8:09 pm    \n",
       "568  03/04/2022, 8:09 pm - Yuvraj Fis Team: <Media ...   03/04/2022, 8:09 pm    \n",
       "569  06/04/2022, 12:13 am - Sakshi Fis Team: Kha ho...  06/04/2022, 12:13 am    \n",
       "570  06/04/2022, 12:30 am - Priyanshu Fis Team: <Me...  06/04/2022, 12:30 am    \n",
       "571  06/04/2022, 10:42 am - Yuvraj Fis Team changed...  06/04/2022, 10:42 am    \n",
       "\n",
       "                                                   msg                 user  \\\n",
       "0     Messages and calls are end to end encrypted. ...   Group_Notification   \n",
       "1                              You created group \"Abc\"   Group_Notification   \n",
       "2     You changed the subject from \"Abc\" to \"Teen P...   Group_Notification   \n",
       "3              Yuvraj Fis Team: Hah bhai naam sahe hai      Yuvraj Fis Team   \n",
       "4                  Yuvraj Fis Team: Teen parinde 😂😜😂😜😂      Yuvraj Fis Team   \n",
       "..                                                 ...                  ...   \n",
       "567   Yuvraj Fis Team: Aaj @919431571432 @919773577...      Yuvraj Fis Team   \n",
       "568                   Yuvraj Fis Team: <Media omitted>      Yuvraj Fis Team   \n",
       "569   Sakshi Fis Team: Kha ho sablog ?? @9197735776...      Sakshi Fis Team   \n",
       "570                Priyanshu Fis Team: <Media omitted>   Priyanshu Fis Team   \n",
       "571          Yuvraj Fis Team changed this group's icon   Group_Notification   \n",
       "\n",
       "                                                  msg1  \n",
       "0     Messages and calls are end to end encrypted. ...  \n",
       "1                              You created group \"Abc\"  \n",
       "2     You changed the subject from \"Abc\" to \"Teen P...  \n",
       "3                               Hah bhai naam sahe hai  \n",
       "4                                   Teen parinde 😂😜😂😜😂  \n",
       "..                                                 ...  \n",
       "567   Aaj @919431571432 @919773577656  tum dono ne ...  \n",
       "568                                    <Media omitted>  \n",
       "569   Kha ho sablog ?? @919773577656 @918882992849 ...  \n",
       "570                                    <Media omitted>  \n",
       "571          Yuvraj Fis Team changed this group's icon  \n",
       "\n",
       "[572 rows x 5 columns]"
      ]
     },
     "execution_count": 12,
     "metadata": {},
     "output_type": "execute_result"
    }
   ],
   "source": [
    "df"
   ]
  },
  {
   "cell_type": "code",
   "execution_count": 13,
   "id": "f91ea12f",
   "metadata": {},
   "outputs": [],
   "source": [
    "df.drop(columns=[0,'msg'],axis=1,inplace=True)"
   ]
  },
  {
   "cell_type": "code",
   "execution_count": 14,
   "id": "0e7f74fe",
   "metadata": {},
   "outputs": [],
   "source": [
    "df['time2'] = pd.to_datetime(df.time,dayfirst = True ,errors='coerce')"
   ]
  },
  {
   "cell_type": "code",
   "execution_count": 15,
   "id": "5e713c38",
   "metadata": {},
   "outputs": [
    {
     "data": {
      "text/html": [
       "<div>\n",
       "<style scoped>\n",
       "    .dataframe tbody tr th:only-of-type {\n",
       "        vertical-align: middle;\n",
       "    }\n",
       "\n",
       "    .dataframe tbody tr th {\n",
       "        vertical-align: top;\n",
       "    }\n",
       "\n",
       "    .dataframe thead th {\n",
       "        text-align: right;\n",
       "    }\n",
       "</style>\n",
       "<table border=\"1\" class=\"dataframe\">\n",
       "  <thead>\n",
       "    <tr style=\"text-align: right;\">\n",
       "      <th></th>\n",
       "      <th>time</th>\n",
       "      <th>user</th>\n",
       "      <th>msg1</th>\n",
       "      <th>time2</th>\n",
       "    </tr>\n",
       "  </thead>\n",
       "  <tbody>\n",
       "    <tr>\n",
       "      <th>0</th>\n",
       "      <td>25/08/2021, 1:46 pm</td>\n",
       "      <td>Group_Notification</td>\n",
       "      <td>Messages and calls are end to end encrypted. ...</td>\n",
       "      <td>2021-08-25 13:46:00</td>\n",
       "    </tr>\n",
       "    <tr>\n",
       "      <th>1</th>\n",
       "      <td>25/08/2021, 1:46 pm</td>\n",
       "      <td>Group_Notification</td>\n",
       "      <td>You created group \"Abc\"</td>\n",
       "      <td>2021-08-25 13:46:00</td>\n",
       "    </tr>\n",
       "    <tr>\n",
       "      <th>2</th>\n",
       "      <td>25/08/2021, 1:48 pm</td>\n",
       "      <td>Group_Notification</td>\n",
       "      <td>You changed the subject from \"Abc\" to \"Teen P...</td>\n",
       "      <td>2021-08-25 13:48:00</td>\n",
       "    </tr>\n",
       "    <tr>\n",
       "      <th>3</th>\n",
       "      <td>25/08/2021, 1:50 pm</td>\n",
       "      <td>Yuvraj Fis Team</td>\n",
       "      <td>Hah bhai naam sahe hai</td>\n",
       "      <td>2021-08-25 13:50:00</td>\n",
       "    </tr>\n",
       "    <tr>\n",
       "      <th>4</th>\n",
       "      <td>25/08/2021, 1:50 pm</td>\n",
       "      <td>Yuvraj Fis Team</td>\n",
       "      <td>Teen parinde 😂😜😂😜😂</td>\n",
       "      <td>2021-08-25 13:50:00</td>\n",
       "    </tr>\n",
       "    <tr>\n",
       "      <th>...</th>\n",
       "      <td>...</td>\n",
       "      <td>...</td>\n",
       "      <td>...</td>\n",
       "      <td>...</td>\n",
       "    </tr>\n",
       "    <tr>\n",
       "      <th>567</th>\n",
       "      <td>03/04/2022, 8:09 pm</td>\n",
       "      <td>Yuvraj Fis Team</td>\n",
       "      <td>Aaj @919431571432 @919773577656  tum dono ne ...</td>\n",
       "      <td>2022-04-03 20:09:00</td>\n",
       "    </tr>\n",
       "    <tr>\n",
       "      <th>568</th>\n",
       "      <td>03/04/2022, 8:09 pm</td>\n",
       "      <td>Yuvraj Fis Team</td>\n",
       "      <td>&lt;Media omitted&gt;</td>\n",
       "      <td>2022-04-03 20:09:00</td>\n",
       "    </tr>\n",
       "    <tr>\n",
       "      <th>569</th>\n",
       "      <td>06/04/2022, 12:13 am</td>\n",
       "      <td>Sakshi Fis Team</td>\n",
       "      <td>Kha ho sablog ?? @919773577656 @918882992849 ...</td>\n",
       "      <td>2022-04-06 00:13:00</td>\n",
       "    </tr>\n",
       "    <tr>\n",
       "      <th>570</th>\n",
       "      <td>06/04/2022, 12:30 am</td>\n",
       "      <td>Priyanshu Fis Team</td>\n",
       "      <td>&lt;Media omitted&gt;</td>\n",
       "      <td>2022-04-06 00:30:00</td>\n",
       "    </tr>\n",
       "    <tr>\n",
       "      <th>571</th>\n",
       "      <td>06/04/2022, 10:42 am</td>\n",
       "      <td>Group_Notification</td>\n",
       "      <td>Yuvraj Fis Team changed this group's icon</td>\n",
       "      <td>2022-04-06 10:42:00</td>\n",
       "    </tr>\n",
       "  </tbody>\n",
       "</table>\n",
       "<p>572 rows × 4 columns</p>\n",
       "</div>"
      ],
      "text/plain": [
       "                      time                 user  \\\n",
       "0     25/08/2021, 1:46 pm    Group_Notification   \n",
       "1     25/08/2021, 1:46 pm    Group_Notification   \n",
       "2     25/08/2021, 1:48 pm    Group_Notification   \n",
       "3     25/08/2021, 1:50 pm       Yuvraj Fis Team   \n",
       "4     25/08/2021, 1:50 pm       Yuvraj Fis Team   \n",
       "..                     ...                  ...   \n",
       "567   03/04/2022, 8:09 pm       Yuvraj Fis Team   \n",
       "568   03/04/2022, 8:09 pm       Yuvraj Fis Team   \n",
       "569  06/04/2022, 12:13 am       Sakshi Fis Team   \n",
       "570  06/04/2022, 12:30 am    Priyanshu Fis Team   \n",
       "571  06/04/2022, 10:42 am    Group_Notification   \n",
       "\n",
       "                                                  msg1               time2  \n",
       "0     Messages and calls are end to end encrypted. ... 2021-08-25 13:46:00  \n",
       "1                              You created group \"Abc\" 2021-08-25 13:46:00  \n",
       "2     You changed the subject from \"Abc\" to \"Teen P... 2021-08-25 13:48:00  \n",
       "3                               Hah bhai naam sahe hai 2021-08-25 13:50:00  \n",
       "4                                   Teen parinde 😂😜😂😜😂 2021-08-25 13:50:00  \n",
       "..                                                 ...                 ...  \n",
       "567   Aaj @919431571432 @919773577656  tum dono ne ... 2022-04-03 20:09:00  \n",
       "568                                    <Media omitted> 2022-04-03 20:09:00  \n",
       "569   Kha ho sablog ?? @919773577656 @918882992849 ... 2022-04-06 00:13:00  \n",
       "570                                    <Media omitted> 2022-04-06 00:30:00  \n",
       "571          Yuvraj Fis Team changed this group's icon 2022-04-06 10:42:00  \n",
       "\n",
       "[572 rows x 4 columns]"
      ]
     },
     "execution_count": 15,
     "metadata": {},
     "output_type": "execute_result"
    }
   ],
   "source": [
    "df"
   ]
  },
  {
   "cell_type": "code",
   "execution_count": 16,
   "id": "b85d6887",
   "metadata": {},
   "outputs": [],
   "source": [
    "# NaT values can be dropped using dropna function in pandas\n",
    "df.dropna(inplace=True)"
   ]
  },
  {
   "cell_type": "code",
   "execution_count": 17,
   "id": "74817f22",
   "metadata": {},
   "outputs": [],
   "source": [
    "df.drop('time',axis=1,inplace=True)"
   ]
  },
  {
   "cell_type": "code",
   "execution_count": 18,
   "id": "a5020b48",
   "metadata": {},
   "outputs": [
    {
     "data": {
      "text/html": [
       "<div>\n",
       "<style scoped>\n",
       "    .dataframe tbody tr th:only-of-type {\n",
       "        vertical-align: middle;\n",
       "    }\n",
       "\n",
       "    .dataframe tbody tr th {\n",
       "        vertical-align: top;\n",
       "    }\n",
       "\n",
       "    .dataframe thead th {\n",
       "        text-align: right;\n",
       "    }\n",
       "</style>\n",
       "<table border=\"1\" class=\"dataframe\">\n",
       "  <thead>\n",
       "    <tr style=\"text-align: right;\">\n",
       "      <th></th>\n",
       "      <th>user</th>\n",
       "      <th>msg1</th>\n",
       "      <th>time2</th>\n",
       "    </tr>\n",
       "  </thead>\n",
       "  <tbody>\n",
       "    <tr>\n",
       "      <th>0</th>\n",
       "      <td>Group_Notification</td>\n",
       "      <td>Messages and calls are end to end encrypted. ...</td>\n",
       "      <td>2021-08-25 13:46:00</td>\n",
       "    </tr>\n",
       "    <tr>\n",
       "      <th>1</th>\n",
       "      <td>Group_Notification</td>\n",
       "      <td>You created group \"Abc\"</td>\n",
       "      <td>2021-08-25 13:46:00</td>\n",
       "    </tr>\n",
       "    <tr>\n",
       "      <th>2</th>\n",
       "      <td>Group_Notification</td>\n",
       "      <td>You changed the subject from \"Abc\" to \"Teen P...</td>\n",
       "      <td>2021-08-25 13:48:00</td>\n",
       "    </tr>\n",
       "    <tr>\n",
       "      <th>3</th>\n",
       "      <td>Yuvraj Fis Team</td>\n",
       "      <td>Hah bhai naam sahe hai</td>\n",
       "      <td>2021-08-25 13:50:00</td>\n",
       "    </tr>\n",
       "    <tr>\n",
       "      <th>4</th>\n",
       "      <td>Yuvraj Fis Team</td>\n",
       "      <td>Teen parinde 😂😜😂😜😂</td>\n",
       "      <td>2021-08-25 13:50:00</td>\n",
       "    </tr>\n",
       "    <tr>\n",
       "      <th>...</th>\n",
       "      <td>...</td>\n",
       "      <td>...</td>\n",
       "      <td>...</td>\n",
       "    </tr>\n",
       "    <tr>\n",
       "      <th>567</th>\n",
       "      <td>Yuvraj Fis Team</td>\n",
       "      <td>Aaj @919431571432 @919773577656  tum dono ne ...</td>\n",
       "      <td>2022-04-03 20:09:00</td>\n",
       "    </tr>\n",
       "    <tr>\n",
       "      <th>568</th>\n",
       "      <td>Yuvraj Fis Team</td>\n",
       "      <td>&lt;Media omitted&gt;</td>\n",
       "      <td>2022-04-03 20:09:00</td>\n",
       "    </tr>\n",
       "    <tr>\n",
       "      <th>569</th>\n",
       "      <td>Sakshi Fis Team</td>\n",
       "      <td>Kha ho sablog ?? @919773577656 @918882992849 ...</td>\n",
       "      <td>2022-04-06 00:13:00</td>\n",
       "    </tr>\n",
       "    <tr>\n",
       "      <th>570</th>\n",
       "      <td>Priyanshu Fis Team</td>\n",
       "      <td>&lt;Media omitted&gt;</td>\n",
       "      <td>2022-04-06 00:30:00</td>\n",
       "    </tr>\n",
       "    <tr>\n",
       "      <th>571</th>\n",
       "      <td>Group_Notification</td>\n",
       "      <td>Yuvraj Fis Team changed this group's icon</td>\n",
       "      <td>2022-04-06 10:42:00</td>\n",
       "    </tr>\n",
       "  </tbody>\n",
       "</table>\n",
       "<p>552 rows × 3 columns</p>\n",
       "</div>"
      ],
      "text/plain": [
       "                    user                                               msg1  \\\n",
       "0     Group_Notification   Messages and calls are end to end encrypted. ...   \n",
       "1     Group_Notification                            You created group \"Abc\"   \n",
       "2     Group_Notification   You changed the subject from \"Abc\" to \"Teen P...   \n",
       "3        Yuvraj Fis Team                             Hah bhai naam sahe hai   \n",
       "4        Yuvraj Fis Team                                 Teen parinde 😂😜😂😜😂   \n",
       "..                   ...                                                ...   \n",
       "567      Yuvraj Fis Team   Aaj @919431571432 @919773577656  tum dono ne ...   \n",
       "568      Yuvraj Fis Team                                    <Media omitted>   \n",
       "569      Sakshi Fis Team   Kha ho sablog ?? @919773577656 @918882992849 ...   \n",
       "570   Priyanshu Fis Team                                    <Media omitted>   \n",
       "571   Group_Notification          Yuvraj Fis Team changed this group's icon   \n",
       "\n",
       "                  time2  \n",
       "0   2021-08-25 13:46:00  \n",
       "1   2021-08-25 13:46:00  \n",
       "2   2021-08-25 13:48:00  \n",
       "3   2021-08-25 13:50:00  \n",
       "4   2021-08-25 13:50:00  \n",
       "..                  ...  \n",
       "567 2022-04-03 20:09:00  \n",
       "568 2022-04-03 20:09:00  \n",
       "569 2022-04-06 00:13:00  \n",
       "570 2022-04-06 00:30:00  \n",
       "571 2022-04-06 10:42:00  \n",
       "\n",
       "[552 rows x 3 columns]"
      ]
     },
     "execution_count": 18,
     "metadata": {},
     "output_type": "execute_result"
    }
   ],
   "source": [
    "df"
   ]
  },
  {
   "cell_type": "code",
   "execution_count": 19,
   "id": "47aadf56",
   "metadata": {},
   "outputs": [],
   "source": [
    "df['year'] = df.time2.dt.year\n",
    "df['month'] = df.time2.dt.month_name()\n",
    "df['day'] = df.time2.dt.day\n",
    "df['hour'] = df.time2.dt.hour\n",
    "df['min'] = df.time2.dt.minute"
   ]
  },
  {
   "cell_type": "code",
   "execution_count": 20,
   "id": "1409ec4d",
   "metadata": {},
   "outputs": [
    {
     "data": {
      "text/plain": [
       "\"df = df[df['msg1'] != ' <Media omitted>']\\n   df.reset_index(inplace= True)\""
      ]
     },
     "execution_count": 20,
     "metadata": {},
     "output_type": "execute_result"
    }
   ],
   "source": [
    "'''df = df[df['msg1'] != ' <Media omitted>']\n",
    "   df.reset_index(inplace= True)'''\n",
    "\n",
    "# this is not required in our project we have to use <Media omitted>"
   ]
  },
  {
   "cell_type": "code",
   "execution_count": null,
   "id": "a0683dfc",
   "metadata": {},
   "outputs": [],
   "source": []
  },
  {
   "cell_type": "code",
   "execution_count": 21,
   "id": "0560a83e",
   "metadata": {},
   "outputs": [
    {
     "data": {
      "text/html": [
       "<div>\n",
       "<style scoped>\n",
       "    .dataframe tbody tr th:only-of-type {\n",
       "        vertical-align: middle;\n",
       "    }\n",
       "\n",
       "    .dataframe tbody tr th {\n",
       "        vertical-align: top;\n",
       "    }\n",
       "\n",
       "    .dataframe thead th {\n",
       "        text-align: right;\n",
       "    }\n",
       "</style>\n",
       "<table border=\"1\" class=\"dataframe\">\n",
       "  <thead>\n",
       "    <tr style=\"text-align: right;\">\n",
       "      <th></th>\n",
       "      <th>user</th>\n",
       "      <th>msg1</th>\n",
       "      <th>time2</th>\n",
       "      <th>year</th>\n",
       "      <th>month</th>\n",
       "      <th>day</th>\n",
       "      <th>hour</th>\n",
       "      <th>min</th>\n",
       "    </tr>\n",
       "  </thead>\n",
       "  <tbody>\n",
       "    <tr>\n",
       "      <th>0</th>\n",
       "      <td>Group_Notification</td>\n",
       "      <td>Messages and calls are end to end encrypted. ...</td>\n",
       "      <td>2021-08-25 13:46:00</td>\n",
       "      <td>2021</td>\n",
       "      <td>August</td>\n",
       "      <td>25</td>\n",
       "      <td>13</td>\n",
       "      <td>46</td>\n",
       "    </tr>\n",
       "    <tr>\n",
       "      <th>1</th>\n",
       "      <td>Group_Notification</td>\n",
       "      <td>You created group \"Abc\"</td>\n",
       "      <td>2021-08-25 13:46:00</td>\n",
       "      <td>2021</td>\n",
       "      <td>August</td>\n",
       "      <td>25</td>\n",
       "      <td>13</td>\n",
       "      <td>46</td>\n",
       "    </tr>\n",
       "    <tr>\n",
       "      <th>2</th>\n",
       "      <td>Group_Notification</td>\n",
       "      <td>You changed the subject from \"Abc\" to \"Teen P...</td>\n",
       "      <td>2021-08-25 13:48:00</td>\n",
       "      <td>2021</td>\n",
       "      <td>August</td>\n",
       "      <td>25</td>\n",
       "      <td>13</td>\n",
       "      <td>48</td>\n",
       "    </tr>\n",
       "    <tr>\n",
       "      <th>3</th>\n",
       "      <td>Yuvraj Fis Team</td>\n",
       "      <td>Hah bhai naam sahe hai</td>\n",
       "      <td>2021-08-25 13:50:00</td>\n",
       "      <td>2021</td>\n",
       "      <td>August</td>\n",
       "      <td>25</td>\n",
       "      <td>13</td>\n",
       "      <td>50</td>\n",
       "    </tr>\n",
       "    <tr>\n",
       "      <th>4</th>\n",
       "      <td>Yuvraj Fis Team</td>\n",
       "      <td>Teen parinde 😂😜😂😜😂</td>\n",
       "      <td>2021-08-25 13:50:00</td>\n",
       "      <td>2021</td>\n",
       "      <td>August</td>\n",
       "      <td>25</td>\n",
       "      <td>13</td>\n",
       "      <td>50</td>\n",
       "    </tr>\n",
       "    <tr>\n",
       "      <th>...</th>\n",
       "      <td>...</td>\n",
       "      <td>...</td>\n",
       "      <td>...</td>\n",
       "      <td>...</td>\n",
       "      <td>...</td>\n",
       "      <td>...</td>\n",
       "      <td>...</td>\n",
       "      <td>...</td>\n",
       "    </tr>\n",
       "    <tr>\n",
       "      <th>567</th>\n",
       "      <td>Yuvraj Fis Team</td>\n",
       "      <td>Aaj @919431571432 @919773577656  tum dono ne ...</td>\n",
       "      <td>2022-04-03 20:09:00</td>\n",
       "      <td>2022</td>\n",
       "      <td>April</td>\n",
       "      <td>3</td>\n",
       "      <td>20</td>\n",
       "      <td>9</td>\n",
       "    </tr>\n",
       "    <tr>\n",
       "      <th>568</th>\n",
       "      <td>Yuvraj Fis Team</td>\n",
       "      <td>&lt;Media omitted&gt;</td>\n",
       "      <td>2022-04-03 20:09:00</td>\n",
       "      <td>2022</td>\n",
       "      <td>April</td>\n",
       "      <td>3</td>\n",
       "      <td>20</td>\n",
       "      <td>9</td>\n",
       "    </tr>\n",
       "    <tr>\n",
       "      <th>569</th>\n",
       "      <td>Sakshi Fis Team</td>\n",
       "      <td>Kha ho sablog ?? @919773577656 @918882992849 ...</td>\n",
       "      <td>2022-04-06 00:13:00</td>\n",
       "      <td>2022</td>\n",
       "      <td>April</td>\n",
       "      <td>6</td>\n",
       "      <td>0</td>\n",
       "      <td>13</td>\n",
       "    </tr>\n",
       "    <tr>\n",
       "      <th>570</th>\n",
       "      <td>Priyanshu Fis Team</td>\n",
       "      <td>&lt;Media omitted&gt;</td>\n",
       "      <td>2022-04-06 00:30:00</td>\n",
       "      <td>2022</td>\n",
       "      <td>April</td>\n",
       "      <td>6</td>\n",
       "      <td>0</td>\n",
       "      <td>30</td>\n",
       "    </tr>\n",
       "    <tr>\n",
       "      <th>571</th>\n",
       "      <td>Group_Notification</td>\n",
       "      <td>Yuvraj Fis Team changed this group's icon</td>\n",
       "      <td>2022-04-06 10:42:00</td>\n",
       "      <td>2022</td>\n",
       "      <td>April</td>\n",
       "      <td>6</td>\n",
       "      <td>10</td>\n",
       "      <td>42</td>\n",
       "    </tr>\n",
       "  </tbody>\n",
       "</table>\n",
       "<p>552 rows × 8 columns</p>\n",
       "</div>"
      ],
      "text/plain": [
       "                    user                                               msg1  \\\n",
       "0     Group_Notification   Messages and calls are end to end encrypted. ...   \n",
       "1     Group_Notification                            You created group \"Abc\"   \n",
       "2     Group_Notification   You changed the subject from \"Abc\" to \"Teen P...   \n",
       "3        Yuvraj Fis Team                             Hah bhai naam sahe hai   \n",
       "4        Yuvraj Fis Team                                 Teen parinde 😂😜😂😜😂   \n",
       "..                   ...                                                ...   \n",
       "567      Yuvraj Fis Team   Aaj @919431571432 @919773577656  tum dono ne ...   \n",
       "568      Yuvraj Fis Team                                    <Media omitted>   \n",
       "569      Sakshi Fis Team   Kha ho sablog ?? @919773577656 @918882992849 ...   \n",
       "570   Priyanshu Fis Team                                    <Media omitted>   \n",
       "571   Group_Notification          Yuvraj Fis Team changed this group's icon   \n",
       "\n",
       "                  time2  year   month  day  hour  min  \n",
       "0   2021-08-25 13:46:00  2021  August   25    13   46  \n",
       "1   2021-08-25 13:46:00  2021  August   25    13   46  \n",
       "2   2021-08-25 13:48:00  2021  August   25    13   48  \n",
       "3   2021-08-25 13:50:00  2021  August   25    13   50  \n",
       "4   2021-08-25 13:50:00  2021  August   25    13   50  \n",
       "..                  ...   ...     ...  ...   ...  ...  \n",
       "567 2022-04-03 20:09:00  2022   April    3    20    9  \n",
       "568 2022-04-03 20:09:00  2022   April    3    20    9  \n",
       "569 2022-04-06 00:13:00  2022   April    6     0   13  \n",
       "570 2022-04-06 00:30:00  2022   April    6     0   30  \n",
       "571 2022-04-06 10:42:00  2022   April    6    10   42  \n",
       "\n",
       "[552 rows x 8 columns]"
      ]
     },
     "execution_count": 21,
     "metadata": {},
     "output_type": "execute_result"
    }
   ],
   "source": [
    "df"
   ]
  },
  {
   "cell_type": "code",
   "execution_count": 22,
   "id": "5334ee96",
   "metadata": {},
   "outputs": [],
   "source": [
    "user_list = df['user'].unique().tolist()"
   ]
  },
  {
   "cell_type": "code",
   "execution_count": 23,
   "id": "606e6575",
   "metadata": {},
   "outputs": [
    {
     "data": {
      "text/plain": [
       "['Group_Notification',\n",
       " ' Yuvraj Fis Team',\n",
       " ' Hitin yadav',\n",
       " ' Sakshi Fis Team',\n",
       " ' Priyanshu Fis Team',\n",
       " ' Sanjana Rawat Fis']"
      ]
     },
     "execution_count": 23,
     "metadata": {},
     "output_type": "execute_result"
    }
   ],
   "source": [
    "user_list "
   ]
  },
  {
   "cell_type": "code",
   "execution_count": 24,
   "id": "913619e1",
   "metadata": {},
   "outputs": [],
   "source": [
    "user_list.remove('Group_Notification')\n",
    "user_list.sort()\n",
    "user_list.insert(0,'Overall')"
   ]
  },
  {
   "cell_type": "code",
   "execution_count": 25,
   "id": "4060ced0",
   "metadata": {},
   "outputs": [
    {
     "data": {
      "text/plain": [
       "array(['Group_Notification', ' Yuvraj Fis Team', ' Hitin yadav',\n",
       "       ' Sakshi Fis Team', ' Priyanshu Fis Team', ' Sanjana Rawat Fis'],\n",
       "      dtype=object)"
      ]
     },
     "execution_count": 25,
     "metadata": {},
     "output_type": "execute_result"
    }
   ],
   "source": [
    "df['user'].unique()"
   ]
  },
  {
   "cell_type": "code",
   "execution_count": 26,
   "id": "af32d181",
   "metadata": {},
   "outputs": [
    {
     "data": {
      "text/html": [
       "<div>\n",
       "<style scoped>\n",
       "    .dataframe tbody tr th:only-of-type {\n",
       "        vertical-align: middle;\n",
       "    }\n",
       "\n",
       "    .dataframe tbody tr th {\n",
       "        vertical-align: top;\n",
       "    }\n",
       "\n",
       "    .dataframe thead th {\n",
       "        text-align: right;\n",
       "    }\n",
       "</style>\n",
       "<table border=\"1\" class=\"dataframe\">\n",
       "  <thead>\n",
       "    <tr style=\"text-align: right;\">\n",
       "      <th></th>\n",
       "      <th>user</th>\n",
       "      <th>msg1</th>\n",
       "      <th>time2</th>\n",
       "      <th>year</th>\n",
       "      <th>month</th>\n",
       "      <th>day</th>\n",
       "      <th>hour</th>\n",
       "      <th>min</th>\n",
       "    </tr>\n",
       "  </thead>\n",
       "  <tbody>\n",
       "    <tr>\n",
       "      <th>5</th>\n",
       "      <td>Hitin yadav</td>\n",
       "      <td>Cool hai na</td>\n",
       "      <td>2021-08-25 13:52:00</td>\n",
       "      <td>2021</td>\n",
       "      <td>August</td>\n",
       "      <td>25</td>\n",
       "      <td>13</td>\n",
       "      <td>52</td>\n",
       "    </tr>\n",
       "    <tr>\n",
       "      <th>6</th>\n",
       "      <td>Hitin yadav</td>\n",
       "      <td>Isliye rakh diya mene</td>\n",
       "      <td>2021-08-25 13:52:00</td>\n",
       "      <td>2021</td>\n",
       "      <td>August</td>\n",
       "      <td>25</td>\n",
       "      <td>13</td>\n",
       "      <td>52</td>\n",
       "    </tr>\n",
       "    <tr>\n",
       "      <th>7</th>\n",
       "      <td>Hitin yadav</td>\n",
       "      <td>&lt;Media omitted&gt;</td>\n",
       "      <td>2021-08-25 13:53:00</td>\n",
       "      <td>2021</td>\n",
       "      <td>August</td>\n",
       "      <td>25</td>\n",
       "      <td>13</td>\n",
       "      <td>53</td>\n",
       "    </tr>\n",
       "    <tr>\n",
       "      <th>8</th>\n",
       "      <td>Hitin yadav</td>\n",
       "      <td>&lt;Media omitted&gt;</td>\n",
       "      <td>2021-08-25 13:53:00</td>\n",
       "      <td>2021</td>\n",
       "      <td>August</td>\n",
       "      <td>25</td>\n",
       "      <td>13</td>\n",
       "      <td>53</td>\n",
       "    </tr>\n",
       "    <tr>\n",
       "      <th>9</th>\n",
       "      <td>Hitin yadav</td>\n",
       "      <td>&lt;Media omitted&gt;</td>\n",
       "      <td>2021-08-25 13:53:00</td>\n",
       "      <td>2021</td>\n",
       "      <td>August</td>\n",
       "      <td>25</td>\n",
       "      <td>13</td>\n",
       "      <td>53</td>\n",
       "    </tr>\n",
       "    <tr>\n",
       "      <th>...</th>\n",
       "      <td>...</td>\n",
       "      <td>...</td>\n",
       "      <td>...</td>\n",
       "      <td>...</td>\n",
       "      <td>...</td>\n",
       "      <td>...</td>\n",
       "      <td>...</td>\n",
       "      <td>...</td>\n",
       "    </tr>\n",
       "    <tr>\n",
       "      <th>457</th>\n",
       "      <td>Hitin yadav</td>\n",
       "      <td>&lt;Media omitted&gt;</td>\n",
       "      <td>2022-01-30 00:47:00</td>\n",
       "      <td>2022</td>\n",
       "      <td>January</td>\n",
       "      <td>30</td>\n",
       "      <td>0</td>\n",
       "      <td>47</td>\n",
       "    </tr>\n",
       "    <tr>\n",
       "      <th>478</th>\n",
       "      <td>Hitin yadav</td>\n",
       "      <td>Mai hu aaj</td>\n",
       "      <td>2022-01-31 23:55:00</td>\n",
       "      <td>2022</td>\n",
       "      <td>January</td>\n",
       "      <td>31</td>\n",
       "      <td>23</td>\n",
       "      <td>55</td>\n",
       "    </tr>\n",
       "    <tr>\n",
       "      <th>480</th>\n",
       "      <td>Hitin yadav</td>\n",
       "      <td>Arey bhai bhai 😂🤣</td>\n",
       "      <td>2022-02-10 02:40:00</td>\n",
       "      <td>2022</td>\n",
       "      <td>February</td>\n",
       "      <td>10</td>\n",
       "      <td>2</td>\n",
       "      <td>40</td>\n",
       "    </tr>\n",
       "    <tr>\n",
       "      <th>481</th>\n",
       "      <td>Hitin yadav</td>\n",
       "      <td>&lt;Media omitted&gt;</td>\n",
       "      <td>2022-02-10 02:40:00</td>\n",
       "      <td>2022</td>\n",
       "      <td>February</td>\n",
       "      <td>10</td>\n",
       "      <td>2</td>\n",
       "      <td>40</td>\n",
       "    </tr>\n",
       "    <tr>\n",
       "      <th>525</th>\n",
       "      <td>Hitin yadav</td>\n",
       "      <td>&lt;Media omitted&gt;</td>\n",
       "      <td>2022-03-24 02:17:00</td>\n",
       "      <td>2022</td>\n",
       "      <td>March</td>\n",
       "      <td>24</td>\n",
       "      <td>2</td>\n",
       "      <td>17</td>\n",
       "    </tr>\n",
       "  </tbody>\n",
       "</table>\n",
       "<p>102 rows × 8 columns</p>\n",
       "</div>"
      ],
      "text/plain": [
       "             user                    msg1               time2  year     month  \\\n",
       "5     Hitin yadav             Cool hai na 2021-08-25 13:52:00  2021    August   \n",
       "6     Hitin yadav   Isliye rakh diya mene 2021-08-25 13:52:00  2021    August   \n",
       "7     Hitin yadav         <Media omitted> 2021-08-25 13:53:00  2021    August   \n",
       "8     Hitin yadav         <Media omitted> 2021-08-25 13:53:00  2021    August   \n",
       "9     Hitin yadav         <Media omitted> 2021-08-25 13:53:00  2021    August   \n",
       "..            ...                     ...                 ...   ...       ...   \n",
       "457   Hitin yadav         <Media omitted> 2022-01-30 00:47:00  2022   January   \n",
       "478   Hitin yadav              Mai hu aaj 2022-01-31 23:55:00  2022   January   \n",
       "480   Hitin yadav       Arey bhai bhai 😂🤣 2022-02-10 02:40:00  2022  February   \n",
       "481   Hitin yadav         <Media omitted> 2022-02-10 02:40:00  2022  February   \n",
       "525   Hitin yadav         <Media omitted> 2022-03-24 02:17:00  2022     March   \n",
       "\n",
       "     day  hour  min  \n",
       "5     25    13   52  \n",
       "6     25    13   52  \n",
       "7     25    13   53  \n",
       "8     25    13   53  \n",
       "9     25    13   53  \n",
       "..   ...   ...  ...  \n",
       "457   30     0   47  \n",
       "478   31    23   55  \n",
       "480   10     2   40  \n",
       "481   10     2   40  \n",
       "525   24     2   17  \n",
       "\n",
       "[102 rows x 8 columns]"
      ]
     },
     "execution_count": 26,
     "metadata": {},
     "output_type": "execute_result"
    }
   ],
   "source": [
    "df[df['user'] == ' Hitin yadav']"
   ]
  },
  {
   "cell_type": "code",
   "execution_count": 27,
   "id": "07dcd583",
   "metadata": {},
   "outputs": [
    {
     "data": {
      "text/plain": [
       "102"
      ]
     },
     "execution_count": 27,
     "metadata": {},
     "output_type": "execute_result"
    }
   ],
   "source": [
    "df[df['user'] == ' Hitin yadav'].shape[0]"
   ]
  },
  {
   "cell_type": "code",
   "execution_count": 28,
   "id": "308868ea",
   "metadata": {},
   "outputs": [
    {
     "data": {
      "text/plain": [
       "' <Media omitted>'"
      ]
     },
     "execution_count": 28,
     "metadata": {},
     "output_type": "execute_result"
    }
   ],
   "source": [
    "df['msg1'][10]"
   ]
  },
  {
   "cell_type": "code",
   "execution_count": 29,
   "id": "8e7ac978",
   "metadata": {},
   "outputs": [
    {
     "data": {
      "text/plain": [
       "['', '<Media', 'omitted>']"
      ]
     },
     "execution_count": 29,
     "metadata": {},
     "output_type": "execute_result"
    }
   ],
   "source": [
    "df['msg1'][10].split(' ')"
   ]
  },
  {
   "cell_type": "code",
   "execution_count": 30,
   "id": "13190d9b",
   "metadata": {},
   "outputs": [
    {
     "data": {
      "text/plain": [
       "' You changed the subject from \"Abc\" to \"Teen Parinde\"'"
      ]
     },
     "execution_count": 30,
     "metadata": {},
     "output_type": "execute_result"
    }
   ],
   "source": [
    "df['msg1'][2]"
   ]
  },
  {
   "cell_type": "code",
   "execution_count": 31,
   "id": "4d7aa45d",
   "metadata": {},
   "outputs": [
    {
     "data": {
      "text/plain": [
       "['You',\n",
       " 'changed',\n",
       " 'the',\n",
       " 'subject',\n",
       " 'from',\n",
       " '\"Abc\"',\n",
       " 'to',\n",
       " '\"Teen',\n",
       " 'Parinde\"']"
      ]
     },
     "execution_count": 31,
     "metadata": {},
     "output_type": "execute_result"
    }
   ],
   "source": [
    "df['msg1'][2].split(' ')[1:]"
   ]
  },
  {
   "cell_type": "code",
   "execution_count": 32,
   "id": "36db4376",
   "metadata": {},
   "outputs": [],
   "source": [
    "words = []\n",
    "for i in df['msg1']:\n",
    "    words.extend(i.split(' ')[1:]) \n",
    "\n",
    "# by using extend list is merged with previous list but if we have used append instead a list will get\n",
    "# added to previos list and we had n no. of list in data\n",
    "# but by extend we only have a single list all other got merged into one"
   ]
  },
  {
   "cell_type": "code",
   "execution_count": 33,
   "id": "6b73c6e5",
   "metadata": {},
   "outputs": [
    {
     "data": {
      "text/plain": [
       "['Messages',\n",
       " 'and',\n",
       " 'calls',\n",
       " 'are',\n",
       " 'end',\n",
       " 'to',\n",
       " 'end',\n",
       " 'encrypted.',\n",
       " 'No',\n",
       " 'one']"
      ]
     },
     "execution_count": 33,
     "metadata": {},
     "output_type": "execute_result"
    }
   ],
   "source": [
    "words[:10]"
   ]
  },
  {
   "cell_type": "code",
   "execution_count": 34,
   "id": "39f0c9e7",
   "metadata": {},
   "outputs": [
    {
     "data": {
      "text/plain": [
       "2449"
      ]
     },
     "execution_count": 34,
     "metadata": {},
     "output_type": "execute_result"
    }
   ],
   "source": [
    "len(words)"
   ]
  },
  {
   "cell_type": "code",
   "execution_count": 35,
   "id": "f22ecaf3",
   "metadata": {},
   "outputs": [],
   "source": [
    "new_df = df[df['user'] == ' Hitin yadav']"
   ]
  },
  {
   "cell_type": "code",
   "execution_count": 36,
   "id": "5e88adfb",
   "metadata": {},
   "outputs": [
    {
     "data": {
      "text/plain": [
       "102"
      ]
     },
     "execution_count": 36,
     "metadata": {},
     "output_type": "execute_result"
    }
   ],
   "source": [
    "new_df.shape[0]"
   ]
  },
  {
   "cell_type": "code",
   "execution_count": 37,
   "id": "1c4f5fa9",
   "metadata": {},
   "outputs": [],
   "source": [
    "words = []\n",
    "for i in new_df['msg1']:\n",
    "    words.extend(i.split(' ')[1:]) "
   ]
  },
  {
   "cell_type": "code",
   "execution_count": 38,
   "id": "f7057298",
   "metadata": {},
   "outputs": [
    {
     "data": {
      "text/plain": [
       "469"
      ]
     },
     "execution_count": 38,
     "metadata": {},
     "output_type": "execute_result"
    }
   ],
   "source": [
    "len(words)"
   ]
  },
  {
   "cell_type": "code",
   "execution_count": 39,
   "id": "af239766",
   "metadata": {},
   "outputs": [
    {
     "data": {
      "text/html": [
       "<div>\n",
       "<style scoped>\n",
       "    .dataframe tbody tr th:only-of-type {\n",
       "        vertical-align: middle;\n",
       "    }\n",
       "\n",
       "    .dataframe tbody tr th {\n",
       "        vertical-align: top;\n",
       "    }\n",
       "\n",
       "    .dataframe thead th {\n",
       "        text-align: right;\n",
       "    }\n",
       "</style>\n",
       "<table border=\"1\" class=\"dataframe\">\n",
       "  <thead>\n",
       "    <tr style=\"text-align: right;\">\n",
       "      <th></th>\n",
       "      <th>user</th>\n",
       "      <th>msg1</th>\n",
       "      <th>time2</th>\n",
       "      <th>year</th>\n",
       "      <th>month</th>\n",
       "      <th>day</th>\n",
       "      <th>hour</th>\n",
       "      <th>min</th>\n",
       "    </tr>\n",
       "  </thead>\n",
       "  <tbody>\n",
       "    <tr>\n",
       "      <th>0</th>\n",
       "      <td>Group_Notification</td>\n",
       "      <td>Messages and calls are end to end encrypted. ...</td>\n",
       "      <td>2021-08-25 13:46:00</td>\n",
       "      <td>2021</td>\n",
       "      <td>August</td>\n",
       "      <td>25</td>\n",
       "      <td>13</td>\n",
       "      <td>46</td>\n",
       "    </tr>\n",
       "    <tr>\n",
       "      <th>1</th>\n",
       "      <td>Group_Notification</td>\n",
       "      <td>You created group \"Abc\"</td>\n",
       "      <td>2021-08-25 13:46:00</td>\n",
       "      <td>2021</td>\n",
       "      <td>August</td>\n",
       "      <td>25</td>\n",
       "      <td>13</td>\n",
       "      <td>46</td>\n",
       "    </tr>\n",
       "    <tr>\n",
       "      <th>2</th>\n",
       "      <td>Group_Notification</td>\n",
       "      <td>You changed the subject from \"Abc\" to \"Teen P...</td>\n",
       "      <td>2021-08-25 13:48:00</td>\n",
       "      <td>2021</td>\n",
       "      <td>August</td>\n",
       "      <td>25</td>\n",
       "      <td>13</td>\n",
       "      <td>48</td>\n",
       "    </tr>\n",
       "    <tr>\n",
       "      <th>3</th>\n",
       "      <td>Yuvraj Fis Team</td>\n",
       "      <td>Hah bhai naam sahe hai</td>\n",
       "      <td>2021-08-25 13:50:00</td>\n",
       "      <td>2021</td>\n",
       "      <td>August</td>\n",
       "      <td>25</td>\n",
       "      <td>13</td>\n",
       "      <td>50</td>\n",
       "    </tr>\n",
       "    <tr>\n",
       "      <th>4</th>\n",
       "      <td>Yuvraj Fis Team</td>\n",
       "      <td>Teen parinde 😂😜😂😜😂</td>\n",
       "      <td>2021-08-25 13:50:00</td>\n",
       "      <td>2021</td>\n",
       "      <td>August</td>\n",
       "      <td>25</td>\n",
       "      <td>13</td>\n",
       "      <td>50</td>\n",
       "    </tr>\n",
       "    <tr>\n",
       "      <th>...</th>\n",
       "      <td>...</td>\n",
       "      <td>...</td>\n",
       "      <td>...</td>\n",
       "      <td>...</td>\n",
       "      <td>...</td>\n",
       "      <td>...</td>\n",
       "      <td>...</td>\n",
       "      <td>...</td>\n",
       "    </tr>\n",
       "    <tr>\n",
       "      <th>567</th>\n",
       "      <td>Yuvraj Fis Team</td>\n",
       "      <td>Aaj @919431571432 @919773577656  tum dono ne ...</td>\n",
       "      <td>2022-04-03 20:09:00</td>\n",
       "      <td>2022</td>\n",
       "      <td>April</td>\n",
       "      <td>3</td>\n",
       "      <td>20</td>\n",
       "      <td>9</td>\n",
       "    </tr>\n",
       "    <tr>\n",
       "      <th>568</th>\n",
       "      <td>Yuvraj Fis Team</td>\n",
       "      <td>&lt;Media omitted&gt;</td>\n",
       "      <td>2022-04-03 20:09:00</td>\n",
       "      <td>2022</td>\n",
       "      <td>April</td>\n",
       "      <td>3</td>\n",
       "      <td>20</td>\n",
       "      <td>9</td>\n",
       "    </tr>\n",
       "    <tr>\n",
       "      <th>569</th>\n",
       "      <td>Sakshi Fis Team</td>\n",
       "      <td>Kha ho sablog ?? @919773577656 @918882992849 ...</td>\n",
       "      <td>2022-04-06 00:13:00</td>\n",
       "      <td>2022</td>\n",
       "      <td>April</td>\n",
       "      <td>6</td>\n",
       "      <td>0</td>\n",
       "      <td>13</td>\n",
       "    </tr>\n",
       "    <tr>\n",
       "      <th>570</th>\n",
       "      <td>Priyanshu Fis Team</td>\n",
       "      <td>&lt;Media omitted&gt;</td>\n",
       "      <td>2022-04-06 00:30:00</td>\n",
       "      <td>2022</td>\n",
       "      <td>April</td>\n",
       "      <td>6</td>\n",
       "      <td>0</td>\n",
       "      <td>30</td>\n",
       "    </tr>\n",
       "    <tr>\n",
       "      <th>571</th>\n",
       "      <td>Group_Notification</td>\n",
       "      <td>Yuvraj Fis Team changed this group's icon</td>\n",
       "      <td>2022-04-06 10:42:00</td>\n",
       "      <td>2022</td>\n",
       "      <td>April</td>\n",
       "      <td>6</td>\n",
       "      <td>10</td>\n",
       "      <td>42</td>\n",
       "    </tr>\n",
       "  </tbody>\n",
       "</table>\n",
       "<p>552 rows × 8 columns</p>\n",
       "</div>"
      ],
      "text/plain": [
       "                    user                                               msg1  \\\n",
       "0     Group_Notification   Messages and calls are end to end encrypted. ...   \n",
       "1     Group_Notification                            You created group \"Abc\"   \n",
       "2     Group_Notification   You changed the subject from \"Abc\" to \"Teen P...   \n",
       "3        Yuvraj Fis Team                             Hah bhai naam sahe hai   \n",
       "4        Yuvraj Fis Team                                 Teen parinde 😂😜😂😜😂   \n",
       "..                   ...                                                ...   \n",
       "567      Yuvraj Fis Team   Aaj @919431571432 @919773577656  tum dono ne ...   \n",
       "568      Yuvraj Fis Team                                    <Media omitted>   \n",
       "569      Sakshi Fis Team   Kha ho sablog ?? @919773577656 @918882992849 ...   \n",
       "570   Priyanshu Fis Team                                    <Media omitted>   \n",
       "571   Group_Notification          Yuvraj Fis Team changed this group's icon   \n",
       "\n",
       "                  time2  year   month  day  hour  min  \n",
       "0   2021-08-25 13:46:00  2021  August   25    13   46  \n",
       "1   2021-08-25 13:46:00  2021  August   25    13   46  \n",
       "2   2021-08-25 13:48:00  2021  August   25    13   48  \n",
       "3   2021-08-25 13:50:00  2021  August   25    13   50  \n",
       "4   2021-08-25 13:50:00  2021  August   25    13   50  \n",
       "..                  ...   ...     ...  ...   ...  ...  \n",
       "567 2022-04-03 20:09:00  2022   April    3    20    9  \n",
       "568 2022-04-03 20:09:00  2022   April    3    20    9  \n",
       "569 2022-04-06 00:13:00  2022   April    6     0   13  \n",
       "570 2022-04-06 00:30:00  2022   April    6     0   30  \n",
       "571 2022-04-06 10:42:00  2022   April    6    10   42  \n",
       "\n",
       "[552 rows x 8 columns]"
      ]
     },
     "execution_count": 39,
     "metadata": {},
     "output_type": "execute_result"
    }
   ],
   "source": [
    "df"
   ]
  },
  {
   "cell_type": "code",
   "execution_count": 40,
   "id": "39bdfea3",
   "metadata": {},
   "outputs": [
    {
     "data": {
      "text/plain": [
       "98"
      ]
     },
     "execution_count": 40,
     "metadata": {},
     "output_type": "execute_result"
    }
   ],
   "source": [
    "df[df['msg1'] == ' <Media omitted>'].shape[0]"
   ]
  },
  {
   "cell_type": "code",
   "execution_count": 41,
   "id": "3087f51d",
   "metadata": {},
   "outputs": [],
   "source": [
    "# pip install urlextract\n",
    "# already done once, no need to do it again everytime we run notebook"
   ]
  },
  {
   "cell_type": "code",
   "execution_count": 42,
   "id": "21f96b8e",
   "metadata": {},
   "outputs": [],
   "source": [
    "from urlextract import URLExtract"
   ]
  },
  {
   "cell_type": "code",
   "execution_count": 43,
   "id": "435a7d3e",
   "metadata": {},
   "outputs": [],
   "source": [
    "url = URLExtract()"
   ]
  },
  {
   "cell_type": "code",
   "execution_count": 44,
   "id": "8ba807fc",
   "metadata": {},
   "outputs": [
    {
     "data": {
      "text/plain": [
       "['https://www.google.com', 'janlipovsky.cz']"
      ]
     },
     "execution_count": 44,
     "metadata": {},
     "output_type": "execute_result"
    }
   ],
   "source": [
    "url.find_urls(\"Text with URLs https://www.google.com. Let's have URL janlipovsky.cz as an example.\")"
   ]
  },
  {
   "cell_type": "code",
   "execution_count": 45,
   "id": "089698a6",
   "metadata": {},
   "outputs": [],
   "source": [
    "links=[]\n",
    "for i in df['msg1']:\n",
    "    links.extend(url.find_urls(i))"
   ]
  },
  {
   "cell_type": "code",
   "execution_count": 46,
   "id": "eb3384ad",
   "metadata": {},
   "outputs": [
    {
     "data": {
      "text/plain": [
       "['youtube.com/shorts/6M39xv3ndPs?feature=share',\n",
       " 'youtube.com/shorts/ECE6tAEMePM?feature=share',\n",
       " 'youtube.com/shorts/_AAI7JA505w?feature=share']"
      ]
     },
     "execution_count": 46,
     "metadata": {},
     "output_type": "execute_result"
    }
   ],
   "source": [
    "links"
   ]
  },
  {
   "cell_type": "code",
   "execution_count": 47,
   "id": "3ae91138",
   "metadata": {},
   "outputs": [
    {
     "data": {
      "text/plain": [
       "3"
      ]
     },
     "execution_count": 47,
     "metadata": {},
     "output_type": "execute_result"
    }
   ],
   "source": [
    "len(links)"
   ]
  },
  {
   "cell_type": "code",
   "execution_count": 48,
   "id": "5089d980",
   "metadata": {},
   "outputs": [
    {
     "data": {
      "text/html": [
       "<div>\n",
       "<style scoped>\n",
       "    .dataframe tbody tr th:only-of-type {\n",
       "        vertical-align: middle;\n",
       "    }\n",
       "\n",
       "    .dataframe tbody tr th {\n",
       "        vertical-align: top;\n",
       "    }\n",
       "\n",
       "    .dataframe thead th {\n",
       "        text-align: right;\n",
       "    }\n",
       "</style>\n",
       "<table border=\"1\" class=\"dataframe\">\n",
       "  <thead>\n",
       "    <tr style=\"text-align: right;\">\n",
       "      <th></th>\n",
       "      <th>user</th>\n",
       "      <th>msg1</th>\n",
       "      <th>time2</th>\n",
       "      <th>year</th>\n",
       "      <th>month</th>\n",
       "      <th>day</th>\n",
       "      <th>hour</th>\n",
       "      <th>min</th>\n",
       "    </tr>\n",
       "  </thead>\n",
       "  <tbody>\n",
       "    <tr>\n",
       "      <th>0</th>\n",
       "      <td>Group_Notification</td>\n",
       "      <td>Messages and calls are end to end encrypted. ...</td>\n",
       "      <td>2021-08-25 13:46:00</td>\n",
       "      <td>2021</td>\n",
       "      <td>August</td>\n",
       "      <td>25</td>\n",
       "      <td>13</td>\n",
       "      <td>46</td>\n",
       "    </tr>\n",
       "    <tr>\n",
       "      <th>1</th>\n",
       "      <td>Group_Notification</td>\n",
       "      <td>You created group \"Abc\"</td>\n",
       "      <td>2021-08-25 13:46:00</td>\n",
       "      <td>2021</td>\n",
       "      <td>August</td>\n",
       "      <td>25</td>\n",
       "      <td>13</td>\n",
       "      <td>46</td>\n",
       "    </tr>\n",
       "    <tr>\n",
       "      <th>2</th>\n",
       "      <td>Group_Notification</td>\n",
       "      <td>You changed the subject from \"Abc\" to \"Teen P...</td>\n",
       "      <td>2021-08-25 13:48:00</td>\n",
       "      <td>2021</td>\n",
       "      <td>August</td>\n",
       "      <td>25</td>\n",
       "      <td>13</td>\n",
       "      <td>48</td>\n",
       "    </tr>\n",
       "    <tr>\n",
       "      <th>3</th>\n",
       "      <td>Yuvraj Fis Team</td>\n",
       "      <td>Hah bhai naam sahe hai</td>\n",
       "      <td>2021-08-25 13:50:00</td>\n",
       "      <td>2021</td>\n",
       "      <td>August</td>\n",
       "      <td>25</td>\n",
       "      <td>13</td>\n",
       "      <td>50</td>\n",
       "    </tr>\n",
       "    <tr>\n",
       "      <th>4</th>\n",
       "      <td>Yuvraj Fis Team</td>\n",
       "      <td>Teen parinde 😂😜😂😜😂</td>\n",
       "      <td>2021-08-25 13:50:00</td>\n",
       "      <td>2021</td>\n",
       "      <td>August</td>\n",
       "      <td>25</td>\n",
       "      <td>13</td>\n",
       "      <td>50</td>\n",
       "    </tr>\n",
       "  </tbody>\n",
       "</table>\n",
       "</div>"
      ],
      "text/plain": [
       "                 user                                               msg1  \\\n",
       "0  Group_Notification   Messages and calls are end to end encrypted. ...   \n",
       "1  Group_Notification                            You created group \"Abc\"   \n",
       "2  Group_Notification   You changed the subject from \"Abc\" to \"Teen P...   \n",
       "3     Yuvraj Fis Team                             Hah bhai naam sahe hai   \n",
       "4     Yuvraj Fis Team                                 Teen parinde 😂😜😂😜😂   \n",
       "\n",
       "                time2  year   month  day  hour  min  \n",
       "0 2021-08-25 13:46:00  2021  August   25    13   46  \n",
       "1 2021-08-25 13:46:00  2021  August   25    13   46  \n",
       "2 2021-08-25 13:48:00  2021  August   25    13   48  \n",
       "3 2021-08-25 13:50:00  2021  August   25    13   50  \n",
       "4 2021-08-25 13:50:00  2021  August   25    13   50  "
      ]
     },
     "execution_count": 48,
     "metadata": {},
     "output_type": "execute_result"
    }
   ],
   "source": [
    "df.head()"
   ]
  },
  {
   "cell_type": "code",
   "execution_count": 49,
   "id": "34411bc2",
   "metadata": {},
   "outputs": [
    {
     "data": {
      "text/plain": [
       " Sakshi Fis Team       171\n",
       " Yuvraj Fis Team       166\n",
       " Hitin yadav           102\n",
       " Priyanshu Fis Team     65\n",
       " Sanjana Rawat Fis      27\n",
       "Group_Notification      21\n",
       "Name: user, dtype: int64"
      ]
     },
     "execution_count": 49,
     "metadata": {},
     "output_type": "execute_result"
    }
   ],
   "source": [
    "df['user'].value_counts()"
   ]
  },
  {
   "cell_type": "code",
   "execution_count": 50,
   "id": "73983f07",
   "metadata": {},
   "outputs": [
    {
     "data": {
      "image/png": "[encoded data removed]",
      "text/plain": [
       "<Figure size 864x360 with 1 Axes>"
      ]
     },
     "metadata": {
      "needs_background": "light"
     },
     "output_type": "display_data"
    }
   ],
   "source": [
    "x = df['user'].value_counts()\n",
    "name = x.index\n",
    "count = x.values\n",
    "\n",
    "# plotting bar graph\n",
    "plt.figure(figsize= (12,5))\n",
    "plt.bar(name,count)\n",
    "plt.xticks(rotation = 'vertical')\n",
    "plt.show()"
   ]
  },
  {
   "cell_type": "code",
   "execution_count": 51,
   "id": "18d1a4f0",
   "metadata": {},
   "outputs": [
    {
     "data": {
      "text/html": [
       "<div>\n",
       "<style scoped>\n",
       "    .dataframe tbody tr th:only-of-type {\n",
       "        vertical-align: middle;\n",
       "    }\n",
       "\n",
       "    .dataframe tbody tr th {\n",
       "        vertical-align: top;\n",
       "    }\n",
       "\n",
       "    .dataframe thead th {\n",
       "        text-align: right;\n",
       "    }\n",
       "</style>\n",
       "<table border=\"1\" class=\"dataframe\">\n",
       "  <thead>\n",
       "    <tr style=\"text-align: right;\">\n",
       "      <th></th>\n",
       "      <th>name</th>\n",
       "      <th>percent</th>\n",
       "    </tr>\n",
       "  </thead>\n",
       "  <tbody>\n",
       "    <tr>\n",
       "      <th>0</th>\n",
       "      <td>Sakshi Fis Team</td>\n",
       "      <td>30.98</td>\n",
       "    </tr>\n",
       "    <tr>\n",
       "      <th>1</th>\n",
       "      <td>Yuvraj Fis Team</td>\n",
       "      <td>30.07</td>\n",
       "    </tr>\n",
       "    <tr>\n",
       "      <th>2</th>\n",
       "      <td>Hitin yadav</td>\n",
       "      <td>18.48</td>\n",
       "    </tr>\n",
       "    <tr>\n",
       "      <th>3</th>\n",
       "      <td>Priyanshu Fis Team</td>\n",
       "      <td>11.78</td>\n",
       "    </tr>\n",
       "    <tr>\n",
       "      <th>4</th>\n",
       "      <td>Sanjana Rawat Fis</td>\n",
       "      <td>4.89</td>\n",
       "    </tr>\n",
       "    <tr>\n",
       "      <th>5</th>\n",
       "      <td>Group_Notification</td>\n",
       "      <td>3.80</td>\n",
       "    </tr>\n",
       "  </tbody>\n",
       "</table>\n",
       "</div>"
      ],
      "text/plain": [
       "                  name  percent\n",
       "0      Sakshi Fis Team    30.98\n",
       "1      Yuvraj Fis Team    30.07\n",
       "2          Hitin yadav    18.48\n",
       "3   Priyanshu Fis Team    11.78\n",
       "4    Sanjana Rawat Fis     4.89\n",
       "5   Group_Notification     3.80"
      ]
     },
     "execution_count": 51,
     "metadata": {},
     "output_type": "execute_result"
    }
   ],
   "source": [
    "round(df['user'].value_counts()/df.shape[0]*100,2).reset_index().rename(columns={'index':'name','user':'percent'})"
   ]
  },
  {
   "cell_type": "code",
   "execution_count": 52,
   "id": "771eb7e1",
   "metadata": {},
   "outputs": [
    {
     "data": {
      "text/plain": [
       "' Messages and calls are end to end encrypted. No one outside of this chat, not even WhatsApp, can read or listen to them. Tap to learn more.  You created group \"Abc\"  You changed the subject from \"Abc\" to \"Teen Parinde\"  Hah bhai naam sahe hai  Teen parinde 😂😜😂😜😂  Cool hai na  Isliye rakh diya mene  <Media omitted>  <Media omitted>  <Media omitted>  <Media omitted>  <Media omitted>  Guys mai fhum aaya  Ghum *  Abhi mere phone mai itni hi pics hai baaki jagah ki bhi bhejunga tumhe  😂😅😁  Sorry mai video call nhi kr paya kuki waha netwrok nhi aarhe the  Koini bhai 😎  Hm photo dekhkr he enjoy kr lenge  ✌🏻✌🏻😹  Baaki bhi dikhaunga abhi ek baar aajane do mere pass😁😂  Pr bht shi jagah thi yr  Pura alwar ghum dala  Bdia bhai bdiaaa  😅🤗  Oye hoye  <Media omitted>  Mae aur yuvraj bhi virtually ghum liye🤪 photos dekh ke  Koi ni...😁  🤩😇  🆒😂  <Media omitted>  Kitna sexy vieww hai  Hann🤩  Hanna, Bht badi lake thi yh  Pic credit bro 😂😂  Haha okyyy  Kaam hogya kya tum logo ka?  Nopes😭😂  Kro kro aaram s'"
      ]
     },
     "execution_count": 52,
     "metadata": {},
     "output_type": "execute_result"
    }
   ],
   "source": [
    "df['msg1'].str.cat(sep=\" \")[:1000]\n",
    "# Pandas str.cat() is used to concatenate strings to the passed caller series of string. \n",
    "# Distinct values from a different series can be passed but the length of both the series has to be same."
   ]
  },
  {
   "cell_type": "code",
   "execution_count": 53,
   "id": "cce8aa0f",
   "metadata": {},
   "outputs": [],
   "source": [
    "# removing group_notificaton and media ommitted\n",
    "temp = df[df['user'] != 'Group_Notification']\n",
    "temp = temp[temp['msg1'] != ' <Media omitted>']"
   ]
  },
  {
   "cell_type": "code",
   "execution_count": 54,
   "id": "9db2b36d",
   "metadata": {},
   "outputs": [
    {
     "data": {
      "text/html": [
       "<div>\n",
       "<style scoped>\n",
       "    .dataframe tbody tr th:only-of-type {\n",
       "        vertical-align: middle;\n",
       "    }\n",
       "\n",
       "    .dataframe tbody tr th {\n",
       "        vertical-align: top;\n",
       "    }\n",
       "\n",
       "    .dataframe thead th {\n",
       "        text-align: right;\n",
       "    }\n",
       "</style>\n",
       "<table border=\"1\" class=\"dataframe\">\n",
       "  <thead>\n",
       "    <tr style=\"text-align: right;\">\n",
       "      <th></th>\n",
       "      <th>user</th>\n",
       "      <th>msg1</th>\n",
       "      <th>time2</th>\n",
       "      <th>year</th>\n",
       "      <th>month</th>\n",
       "      <th>day</th>\n",
       "      <th>hour</th>\n",
       "      <th>min</th>\n",
       "    </tr>\n",
       "  </thead>\n",
       "  <tbody>\n",
       "    <tr>\n",
       "      <th>3</th>\n",
       "      <td>Yuvraj Fis Team</td>\n",
       "      <td>Hah bhai naam sahe hai</td>\n",
       "      <td>2021-08-25 13:50:00</td>\n",
       "      <td>2021</td>\n",
       "      <td>August</td>\n",
       "      <td>25</td>\n",
       "      <td>13</td>\n",
       "      <td>50</td>\n",
       "    </tr>\n",
       "    <tr>\n",
       "      <th>4</th>\n",
       "      <td>Yuvraj Fis Team</td>\n",
       "      <td>Teen parinde 😂😜😂😜😂</td>\n",
       "      <td>2021-08-25 13:50:00</td>\n",
       "      <td>2021</td>\n",
       "      <td>August</td>\n",
       "      <td>25</td>\n",
       "      <td>13</td>\n",
       "      <td>50</td>\n",
       "    </tr>\n",
       "    <tr>\n",
       "      <th>5</th>\n",
       "      <td>Hitin yadav</td>\n",
       "      <td>Cool hai na</td>\n",
       "      <td>2021-08-25 13:52:00</td>\n",
       "      <td>2021</td>\n",
       "      <td>August</td>\n",
       "      <td>25</td>\n",
       "      <td>13</td>\n",
       "      <td>52</td>\n",
       "    </tr>\n",
       "    <tr>\n",
       "      <th>6</th>\n",
       "      <td>Hitin yadav</td>\n",
       "      <td>Isliye rakh diya mene</td>\n",
       "      <td>2021-08-25 13:52:00</td>\n",
       "      <td>2021</td>\n",
       "      <td>August</td>\n",
       "      <td>25</td>\n",
       "      <td>13</td>\n",
       "      <td>52</td>\n",
       "    </tr>\n",
       "    <tr>\n",
       "      <th>12</th>\n",
       "      <td>Hitin yadav</td>\n",
       "      <td>Guys mai fhum aaya</td>\n",
       "      <td>2021-08-25 13:53:00</td>\n",
       "      <td>2021</td>\n",
       "      <td>August</td>\n",
       "      <td>25</td>\n",
       "      <td>13</td>\n",
       "      <td>53</td>\n",
       "    </tr>\n",
       "  </tbody>\n",
       "</table>\n",
       "</div>"
      ],
      "text/plain": [
       "                user                     msg1               time2  year  \\\n",
       "3    Yuvraj Fis Team   Hah bhai naam sahe hai 2021-08-25 13:50:00  2021   \n",
       "4    Yuvraj Fis Team       Teen parinde 😂😜😂😜😂 2021-08-25 13:50:00  2021   \n",
       "5        Hitin yadav              Cool hai na 2021-08-25 13:52:00  2021   \n",
       "6        Hitin yadav    Isliye rakh diya mene 2021-08-25 13:52:00  2021   \n",
       "12       Hitin yadav       Guys mai fhum aaya 2021-08-25 13:53:00  2021   \n",
       "\n",
       "     month  day  hour  min  \n",
       "3   August   25    13   50  \n",
       "4   August   25    13   50  \n",
       "5   August   25    13   52  \n",
       "6   August   25    13   52  \n",
       "12  August   25    13   53  "
      ]
     },
     "execution_count": 54,
     "metadata": {},
     "output_type": "execute_result"
    }
   ],
   "source": [
    "temp.head()"
   ]
  },
  {
   "cell_type": "code",
   "execution_count": 55,
   "id": "505072b3",
   "metadata": {},
   "outputs": [
    {
     "name": "stdout",
     "output_type": "stream",
     "text": [
      "Hilarious face_with_tears_of_joy. The feeling of making a sale smiling_face_with_sunglasses, The feeling of actually fulfilling orders unamused_face\n"
     ]
    }
   ],
   "source": [
    "import re\n",
    "import pickle\n",
    "from emot.emo_unicode import UNICODE_EMOJI, EMOTICONS_EMO\n",
    "\n",
    "\n",
    "\n",
    "# replacing emoticons with their names in data\n",
    "def convert_emojis(text):\n",
    "    for emot in UNICODE_EMOJI:\n",
    "        text = text.replace(emot, \"_\".join(UNICODE_EMOJI[emot].replace(\",\",\"\").replace(\":\",\"\").split()))\n",
    "    return text\n",
    "# Example\n",
    "text1 = \"Hilarious 😂. The feeling of making a sale 😎, The feeling of actually fulfilling orders 😒\"\n",
    "print(convert_emojis(text1))\n",
    "\n",
    "\n",
    "temp['msg1'] = temp['msg1'].apply(convert_emojis)"
   ]
  },
  {
   "cell_type": "code",
   "execution_count": 56,
   "id": "f7d659e5",
   "metadata": {},
   "outputs": [
    {
     "data": {
      "text/html": [
       "<div>\n",
       "<style scoped>\n",
       "    .dataframe tbody tr th:only-of-type {\n",
       "        vertical-align: middle;\n",
       "    }\n",
       "\n",
       "    .dataframe tbody tr th {\n",
       "        vertical-align: top;\n",
       "    }\n",
       "\n",
       "    .dataframe thead th {\n",
       "        text-align: right;\n",
       "    }\n",
       "</style>\n",
       "<table border=\"1\" class=\"dataframe\">\n",
       "  <thead>\n",
       "    <tr style=\"text-align: right;\">\n",
       "      <th></th>\n",
       "      <th>user</th>\n",
       "      <th>msg1</th>\n",
       "      <th>time2</th>\n",
       "      <th>year</th>\n",
       "      <th>month</th>\n",
       "      <th>day</th>\n",
       "      <th>hour</th>\n",
       "      <th>min</th>\n",
       "    </tr>\n",
       "  </thead>\n",
       "  <tbody>\n",
       "    <tr>\n",
       "      <th>3</th>\n",
       "      <td>Yuvraj Fis Team</td>\n",
       "      <td>Hah bhai naam sahe hai</td>\n",
       "      <td>2021-08-25 13:50:00</td>\n",
       "      <td>2021</td>\n",
       "      <td>August</td>\n",
       "      <td>25</td>\n",
       "      <td>13</td>\n",
       "      <td>50</td>\n",
       "    </tr>\n",
       "    <tr>\n",
       "      <th>4</th>\n",
       "      <td>Yuvraj Fis Team</td>\n",
       "      <td>Teen parinde face_with_tears_of_joywinking_fa...</td>\n",
       "      <td>2021-08-25 13:50:00</td>\n",
       "      <td>2021</td>\n",
       "      <td>August</td>\n",
       "      <td>25</td>\n",
       "      <td>13</td>\n",
       "      <td>50</td>\n",
       "    </tr>\n",
       "    <tr>\n",
       "      <th>5</th>\n",
       "      <td>Hitin yadav</td>\n",
       "      <td>Cool hai na</td>\n",
       "      <td>2021-08-25 13:52:00</td>\n",
       "      <td>2021</td>\n",
       "      <td>August</td>\n",
       "      <td>25</td>\n",
       "      <td>13</td>\n",
       "      <td>52</td>\n",
       "    </tr>\n",
       "    <tr>\n",
       "      <th>6</th>\n",
       "      <td>Hitin yadav</td>\n",
       "      <td>Isliye rakh diya mene</td>\n",
       "      <td>2021-08-25 13:52:00</td>\n",
       "      <td>2021</td>\n",
       "      <td>August</td>\n",
       "      <td>25</td>\n",
       "      <td>13</td>\n",
       "      <td>52</td>\n",
       "    </tr>\n",
       "    <tr>\n",
       "      <th>12</th>\n",
       "      <td>Hitin yadav</td>\n",
       "      <td>Guys mai fhum aaya</td>\n",
       "      <td>2021-08-25 13:53:00</td>\n",
       "      <td>2021</td>\n",
       "      <td>August</td>\n",
       "      <td>25</td>\n",
       "      <td>13</td>\n",
       "      <td>53</td>\n",
       "    </tr>\n",
       "  </tbody>\n",
       "</table>\n",
       "</div>"
      ],
      "text/plain": [
       "                user                                               msg1  \\\n",
       "3    Yuvraj Fis Team                             Hah bhai naam sahe hai   \n",
       "4    Yuvraj Fis Team   Teen parinde face_with_tears_of_joywinking_fa...   \n",
       "5        Hitin yadav                                        Cool hai na   \n",
       "6        Hitin yadav                              Isliye rakh diya mene   \n",
       "12       Hitin yadav                                 Guys mai fhum aaya   \n",
       "\n",
       "                 time2  year   month  day  hour  min  \n",
       "3  2021-08-25 13:50:00  2021  August   25    13   50  \n",
       "4  2021-08-25 13:50:00  2021  August   25    13   50  \n",
       "5  2021-08-25 13:52:00  2021  August   25    13   52  \n",
       "6  2021-08-25 13:52:00  2021  August   25    13   52  \n",
       "12 2021-08-25 13:53:00  2021  August   25    13   53  "
      ]
     },
     "execution_count": 56,
     "metadata": {},
     "output_type": "execute_result"
    }
   ],
   "source": [
    "temp.head()"
   ]
  },
  {
   "cell_type": "code",
   "execution_count": null,
   "id": "ccf36073",
   "metadata": {},
   "outputs": [],
   "source": []
  },
  {
   "cell_type": "code",
   "execution_count": 57,
   "id": "bb1875fe",
   "metadata": {},
   "outputs": [],
   "source": [
    "# removing stopwords\n",
    "from nltk.corpus import stopwords\n",
    "b1= stopwords.words('english')"
   ]
  },
  {
   "cell_type": "code",
   "execution_count": 58,
   "id": "67be8889",
   "metadata": {},
   "outputs": [
    {
     "data": {
      "text/plain": [
       "['i', 'me', 'my', 'myself', 'we', 'our', 'ours', 'ourselves', 'you', \"you're\"]"
      ]
     },
     "execution_count": 58,
     "metadata": {},
     "output_type": "execute_result"
    }
   ],
   "source": [
    "b1[:10]"
   ]
  },
  {
   "cell_type": "code",
   "execution_count": 59,
   "id": "f6298287",
   "metadata": {},
   "outputs": [],
   "source": [
    "f = open('stop_hinglish.txt','r')\n",
    "b2 = f.read()"
   ]
  },
  {
   "cell_type": "code",
   "execution_count": 60,
   "id": "8c366c7c",
   "metadata": {},
   "outputs": [
    {
     "name": "stdout",
     "output_type": "stream",
     "text": [
      "['@8234567891']\n"
     ]
    }
   ],
   "source": [
    "import re\n",
    "\n",
    "text = 'hello world @8234567891'\n",
    "print (re.findall('@.{10}',text))"
   ]
  },
  {
   "cell_type": "code",
   "execution_count": 61,
   "id": "63667cf5",
   "metadata": {},
   "outputs": [],
   "source": [
    "d=[]\n",
    "for i in range(0,1001):\n",
    "    d.append(str(i))"
   ]
  },
  {
   "cell_type": "code",
   "execution_count": 62,
   "id": "f844b86f",
   "metadata": {},
   "outputs": [
    {
     "name": "stdout",
     "output_type": "stream",
     "text": [
      "['@919431571432', '@919431571432', '@919431571432', '@918700219435', '@918700219435', '@919431571432', '@919431571432', '@919012429391', '@918882992849', '@919431571432', '@919431571432', '@918882992849', '@918700219435', '@919431571432', '@919431571432', '@919773577656', '@919773577656', '@918700219435', '@918882992849', '@919431571432', '@919431571432', '@918700219435', '@918882992849', '@919431571432', '@918882992849', '@919431571432', '@919773577656', '@919773577656', '@919431571432', '@919431571432', '@919773577656', '@919431571432', '@919431571432', '@918882992849', '@918700219435', '@919431571432', '@919773577656', '@919773577656', '@918882992849', '@918700219435']\n",
      "\n",
      "********\n",
      "\n",
      "\n",
      "********\n",
      "\n",
      "433\n",
      "\n",
      "********\n",
      "\n",
      "[['naam', 'sahe'], ['parinde', 'face_with_tears_of_joywinking_face_with_tongueface_with_tears_of_joywinking_face_with_tongueface_with_tears_of_joy'], ['cool'], [], ['guys', 'fhum'], ['ghum', '*'], ['phone', 'pics', 'baaki', 'jagah', 'bhejunga', 'tumhe'], ['face_with_tears_of_joygrinning_face_with_sweatbeaming_face_with_smiling_eyes'], ['sorry', 'video', 'call', 'paya', 'kuki', 'netwrok', 'aarhe'], ['koini', 'smiling_face_with_sunglasses'], ['photo', 'dekhkr', 'enjoy', 'lenge'], ['victory_handlight_skin_tonevictory_handlight_skin_tonecat_with_tears_of_joy'], ['baaki', 'dikhaunga', 'aajane', 'passbeaming_face_with_smiling_eyesface_with_tears_of_joy'], ['jagah'], ['alwar', 'ghum', 'dala'], ['bdia', 'bdiaaa'], ['grinning_face_with_sweathugging_face'], [], ['yuvraj', 'virtually', 'ghum', 'liyezany_face', 'photos'], ['ni...beaming_face_with_smiling_eyes'], ['star-strucksmiling_face_with_halo'], ['cool_buttonface_with_tears_of_joy'], ['sexy', 'vieww'], ['hannstar-struck'], ['hanna,', 'badi', 'lake'], ['pic', 'credit', 'face_with_tears_of_joyface_with_tears_of_joy'], ['haha', 'okyyy'], ['kaam', 'hogya', 'ka?'], ['nopesloudly_crying_faceface_with_tears_of_joy'], ['kro', 'kro', 'aaram', 'seface_with_tears_of_joyface_with_tears_of_joy'], ['haha', 'yahe', 'pass'], ['sakshi', 'bheja'], ['taki', 'laga', 'icon'], ['winking_face_with_tongue'], ['face_with_tears_of_joyface_with_tears_of_joyrolling_on_the_floor_laughing'], ['sakshi', 'dhun', 'thti', 'beaming_face_with_smiling_eyesgrinning_squinting_face'], [], ['baat'], ['bhej', 'deti', 'huface_with_tears_of_joyface_with_tears_of_joy'], ['konsi', 'lagani', 'btaorolling_on_the_floor_laughingrolling_on_the_floor_laughing']]\n"
     ]
    }
   ],
   "source": [
    "# removing no. of group member tags on groups like @8989898989\n",
    "n= []\n",
    "for i in temp['msg1']:\n",
    "    n.extend(re.findall('@.{12}',i))  \n",
    "    \n",
    "print(n)\n",
    "print(\"\\n********\\n\")\n",
    "\n",
    "\n",
    "r=[]\n",
    "for i in temp['msg1']:\n",
    "    r1=[]\n",
    "    for j in i.lower().split():\n",
    "        if j not in n and j not in b2 and j not in b1 and j not in d:\n",
    "            r1.append(j)\n",
    "    r.append(r1) \n",
    "    \n",
    "print(\"\\n********\\n\")\n",
    "print(len(r))\n",
    "print(\"\\n********\\n\")\n",
    "print(r[:40])"
   ]
  },
  {
   "cell_type": "code",
   "execution_count": 63,
   "id": "4900e7c8",
   "metadata": {},
   "outputs": [
    {
     "data": {
      "text/plain": [
       "3                                 Hah bhai naam sahe hai\n",
       "4       Teen parinde face_with_tears_of_joywinking_fa...\n",
       "5                                            Cool hai na\n",
       "6                                  Isliye rakh diya mene\n",
       "12                                    Guys mai fhum aaya\n",
       "                             ...                        \n",
       "561     face_with_hand_over_mouthface_with_hand_over_...\n",
       "562         @918700219435  bhai bhe confirmation de dega\n",
       "566     https //youtube.com/shorts/_AAI7JA505w?featur...\n",
       "567     Aaj @919431571432 @919773577656  tum dono ne ...\n",
       "569     Kha ho sablog ?? @919773577656 @918882992849 ...\n",
       "Name: msg1, Length: 433, dtype: object"
      ]
     },
     "execution_count": 63,
     "metadata": {},
     "output_type": "execute_result"
    }
   ],
   "source": [
    "temp['msg1']"
   ]
  },
  {
   "cell_type": "code",
   "execution_count": 64,
   "id": "3e3f1150",
   "metadata": {},
   "outputs": [],
   "source": [
    "temp['msg22']= r"
   ]
  },
  {
   "cell_type": "code",
   "execution_count": 65,
   "id": "b3beb2a3",
   "metadata": {},
   "outputs": [
    {
     "data": {
      "text/html": [
       "<div>\n",
       "<style scoped>\n",
       "    .dataframe tbody tr th:only-of-type {\n",
       "        vertical-align: middle;\n",
       "    }\n",
       "\n",
       "    .dataframe tbody tr th {\n",
       "        vertical-align: top;\n",
       "    }\n",
       "\n",
       "    .dataframe thead th {\n",
       "        text-align: right;\n",
       "    }\n",
       "</style>\n",
       "<table border=\"1\" class=\"dataframe\">\n",
       "  <thead>\n",
       "    <tr style=\"text-align: right;\">\n",
       "      <th></th>\n",
       "      <th>user</th>\n",
       "      <th>msg1</th>\n",
       "      <th>time2</th>\n",
       "      <th>year</th>\n",
       "      <th>month</th>\n",
       "      <th>day</th>\n",
       "      <th>hour</th>\n",
       "      <th>min</th>\n",
       "      <th>msg22</th>\n",
       "    </tr>\n",
       "  </thead>\n",
       "  <tbody>\n",
       "    <tr>\n",
       "      <th>3</th>\n",
       "      <td>Yuvraj Fis Team</td>\n",
       "      <td>Hah bhai naam sahe hai</td>\n",
       "      <td>2021-08-25 13:50:00</td>\n",
       "      <td>2021</td>\n",
       "      <td>August</td>\n",
       "      <td>25</td>\n",
       "      <td>13</td>\n",
       "      <td>50</td>\n",
       "      <td>[naam, sahe]</td>\n",
       "    </tr>\n",
       "    <tr>\n",
       "      <th>4</th>\n",
       "      <td>Yuvraj Fis Team</td>\n",
       "      <td>Teen parinde face_with_tears_of_joywinking_fa...</td>\n",
       "      <td>2021-08-25 13:50:00</td>\n",
       "      <td>2021</td>\n",
       "      <td>August</td>\n",
       "      <td>25</td>\n",
       "      <td>13</td>\n",
       "      <td>50</td>\n",
       "      <td>[parinde, face_with_tears_of_joywinking_face_w...</td>\n",
       "    </tr>\n",
       "    <tr>\n",
       "      <th>5</th>\n",
       "      <td>Hitin yadav</td>\n",
       "      <td>Cool hai na</td>\n",
       "      <td>2021-08-25 13:52:00</td>\n",
       "      <td>2021</td>\n",
       "      <td>August</td>\n",
       "      <td>25</td>\n",
       "      <td>13</td>\n",
       "      <td>52</td>\n",
       "      <td>[cool]</td>\n",
       "    </tr>\n",
       "    <tr>\n",
       "      <th>6</th>\n",
       "      <td>Hitin yadav</td>\n",
       "      <td>Isliye rakh diya mene</td>\n",
       "      <td>2021-08-25 13:52:00</td>\n",
       "      <td>2021</td>\n",
       "      <td>August</td>\n",
       "      <td>25</td>\n",
       "      <td>13</td>\n",
       "      <td>52</td>\n",
       "      <td>[]</td>\n",
       "    </tr>\n",
       "    <tr>\n",
       "      <th>12</th>\n",
       "      <td>Hitin yadav</td>\n",
       "      <td>Guys mai fhum aaya</td>\n",
       "      <td>2021-08-25 13:53:00</td>\n",
       "      <td>2021</td>\n",
       "      <td>August</td>\n",
       "      <td>25</td>\n",
       "      <td>13</td>\n",
       "      <td>53</td>\n",
       "      <td>[guys, fhum]</td>\n",
       "    </tr>\n",
       "  </tbody>\n",
       "</table>\n",
       "</div>"
      ],
      "text/plain": [
       "                user                                               msg1  \\\n",
       "3    Yuvraj Fis Team                             Hah bhai naam sahe hai   \n",
       "4    Yuvraj Fis Team   Teen parinde face_with_tears_of_joywinking_fa...   \n",
       "5        Hitin yadav                                        Cool hai na   \n",
       "6        Hitin yadav                              Isliye rakh diya mene   \n",
       "12       Hitin yadav                                 Guys mai fhum aaya   \n",
       "\n",
       "                 time2  year   month  day  hour  min  \\\n",
       "3  2021-08-25 13:50:00  2021  August   25    13   50   \n",
       "4  2021-08-25 13:50:00  2021  August   25    13   50   \n",
       "5  2021-08-25 13:52:00  2021  August   25    13   52   \n",
       "6  2021-08-25 13:52:00  2021  August   25    13   52   \n",
       "12 2021-08-25 13:53:00  2021  August   25    13   53   \n",
       "\n",
       "                                                msg22  \n",
       "3                                        [naam, sahe]  \n",
       "4   [parinde, face_with_tears_of_joywinking_face_w...  \n",
       "5                                              [cool]  \n",
       "6                                                  []  \n",
       "12                                       [guys, fhum]  "
      ]
     },
     "execution_count": 65,
     "metadata": {},
     "output_type": "execute_result"
    }
   ],
   "source": [
    "temp.head()"
   ]
  },
  {
   "cell_type": "code",
   "execution_count": 66,
   "id": "f7b3fa30",
   "metadata": {},
   "outputs": [],
   "source": [
    "def string(a):\n",
    "    return \" \".join(a)\n",
    "\n",
    "temp['msg22'] = temp['msg22'].apply(string)"
   ]
  },
  {
   "cell_type": "code",
   "execution_count": 67,
   "id": "d8b2f9ed",
   "metadata": {},
   "outputs": [
    {
     "data": {
      "text/html": [
       "<div>\n",
       "<style scoped>\n",
       "    .dataframe tbody tr th:only-of-type {\n",
       "        vertical-align: middle;\n",
       "    }\n",
       "\n",
       "    .dataframe tbody tr th {\n",
       "        vertical-align: top;\n",
       "    }\n",
       "\n",
       "    .dataframe thead th {\n",
       "        text-align: right;\n",
       "    }\n",
       "</style>\n",
       "<table border=\"1\" class=\"dataframe\">\n",
       "  <thead>\n",
       "    <tr style=\"text-align: right;\">\n",
       "      <th></th>\n",
       "      <th>user</th>\n",
       "      <th>msg1</th>\n",
       "      <th>time2</th>\n",
       "      <th>year</th>\n",
       "      <th>month</th>\n",
       "      <th>day</th>\n",
       "      <th>hour</th>\n",
       "      <th>min</th>\n",
       "      <th>msg22</th>\n",
       "    </tr>\n",
       "  </thead>\n",
       "  <tbody>\n",
       "    <tr>\n",
       "      <th>3</th>\n",
       "      <td>Yuvraj Fis Team</td>\n",
       "      <td>Hah bhai naam sahe hai</td>\n",
       "      <td>2021-08-25 13:50:00</td>\n",
       "      <td>2021</td>\n",
       "      <td>August</td>\n",
       "      <td>25</td>\n",
       "      <td>13</td>\n",
       "      <td>50</td>\n",
       "      <td>naam sahe</td>\n",
       "    </tr>\n",
       "    <tr>\n",
       "      <th>4</th>\n",
       "      <td>Yuvraj Fis Team</td>\n",
       "      <td>Teen parinde face_with_tears_of_joywinking_fa...</td>\n",
       "      <td>2021-08-25 13:50:00</td>\n",
       "      <td>2021</td>\n",
       "      <td>August</td>\n",
       "      <td>25</td>\n",
       "      <td>13</td>\n",
       "      <td>50</td>\n",
       "      <td>parinde face_with_tears_of_joywinking_face_wit...</td>\n",
       "    </tr>\n",
       "    <tr>\n",
       "      <th>5</th>\n",
       "      <td>Hitin yadav</td>\n",
       "      <td>Cool hai na</td>\n",
       "      <td>2021-08-25 13:52:00</td>\n",
       "      <td>2021</td>\n",
       "      <td>August</td>\n",
       "      <td>25</td>\n",
       "      <td>13</td>\n",
       "      <td>52</td>\n",
       "      <td>cool</td>\n",
       "    </tr>\n",
       "    <tr>\n",
       "      <th>6</th>\n",
       "      <td>Hitin yadav</td>\n",
       "      <td>Isliye rakh diya mene</td>\n",
       "      <td>2021-08-25 13:52:00</td>\n",
       "      <td>2021</td>\n",
       "      <td>August</td>\n",
       "      <td>25</td>\n",
       "      <td>13</td>\n",
       "      <td>52</td>\n",
       "      <td></td>\n",
       "    </tr>\n",
       "    <tr>\n",
       "      <th>12</th>\n",
       "      <td>Hitin yadav</td>\n",
       "      <td>Guys mai fhum aaya</td>\n",
       "      <td>2021-08-25 13:53:00</td>\n",
       "      <td>2021</td>\n",
       "      <td>August</td>\n",
       "      <td>25</td>\n",
       "      <td>13</td>\n",
       "      <td>53</td>\n",
       "      <td>guys fhum</td>\n",
       "    </tr>\n",
       "  </tbody>\n",
       "</table>\n",
       "</div>"
      ],
      "text/plain": [
       "                user                                               msg1  \\\n",
       "3    Yuvraj Fis Team                             Hah bhai naam sahe hai   \n",
       "4    Yuvraj Fis Team   Teen parinde face_with_tears_of_joywinking_fa...   \n",
       "5        Hitin yadav                                        Cool hai na   \n",
       "6        Hitin yadav                              Isliye rakh diya mene   \n",
       "12       Hitin yadav                                 Guys mai fhum aaya   \n",
       "\n",
       "                 time2  year   month  day  hour  min  \\\n",
       "3  2021-08-25 13:50:00  2021  August   25    13   50   \n",
       "4  2021-08-25 13:50:00  2021  August   25    13   50   \n",
       "5  2021-08-25 13:52:00  2021  August   25    13   52   \n",
       "6  2021-08-25 13:52:00  2021  August   25    13   52   \n",
       "12 2021-08-25 13:53:00  2021  August   25    13   53   \n",
       "\n",
       "                                                msg22  \n",
       "3                                           naam sahe  \n",
       "4   parinde face_with_tears_of_joywinking_face_wit...  \n",
       "5                                                cool  \n",
       "6                                                      \n",
       "12                                          guys fhum  "
      ]
     },
     "execution_count": 67,
     "metadata": {},
     "output_type": "execute_result"
    }
   ],
   "source": [
    "temp.head()"
   ]
  },
  {
   "cell_type": "code",
   "execution_count": 68,
   "id": "1544c5b7",
   "metadata": {},
   "outputs": [],
   "source": [
    "from collections import Counter"
   ]
  },
  {
   "cell_type": "code",
   "execution_count": 69,
   "id": "2c79847b",
   "metadata": {},
   "outputs": [
    {
     "name": "stdout",
     "output_type": "stream",
     "text": [
      "['naam', 'sahe', 'parinde', 'face_with_tears_of_joywinking_face_with_tongueface_with_tears_of_joywinking_face_with_tongueface_with_tears_of_joy', 'cool', 'guys', 'fhum', 'ghum', '*', 'phone', 'pics', 'baaki', 'jagah', 'bhejunga', 'tumhe', 'face_with_tears_of_joygrinning_face_with_sweatbeaming_face_with_smiling_eyes', 'sorry', 'video', 'call', 'paya', 'kuki', 'netwrok', 'aarhe', 'koini', 'smiling_face_with_sunglasses', 'photo', 'dekhkr', 'enjoy', 'lenge', 'victory_handlight_skin_tonevictory_handlight_skin_tonecat_with_tears_of_joy']\n",
      "\n",
      "**********************************\n",
      "\n",
      "Counter({'naam': 1, 'sahe': 1, 'parinde': 1, 'face_with_tears_of_joywinking_face_with_tongueface_with_tears_of_joywinking_face_with_tongueface_with_tears_of_joy': 1, 'cool': 1, 'guys': 1, 'fhum': 1, 'ghum': 1, '*': 1, 'phone': 1, 'pics': 1, 'baaki': 1, 'jagah': 1, 'bhejunga': 1, 'tumhe': 1, 'face_with_tears_of_joygrinning_face_with_sweatbeaming_face_with_smiling_eyes': 1, 'sorry': 1, 'video': 1, 'call': 1, 'paya': 1, 'kuki': 1, 'netwrok': 1, 'aarhe': 1, 'koini': 1, 'smiling_face_with_sunglasses': 1, 'photo': 1, 'dekhkr': 1, 'enjoy': 1, 'lenge': 1, 'victory_handlight_skin_tonevictory_handlight_skin_tonecat_with_tears_of_joy': 1})\n"
     ]
    }
   ],
   "source": [
    "w111=[]\n",
    "for i in r:\n",
    "    w111.extend(i)\n",
    "    \n",
    "print(w111[:30])\n",
    "print(\"\\n**********************************\\n\")\n",
    "print(Counter(w111[:30]))"
   ]
  },
  {
   "cell_type": "code",
   "execution_count": 70,
   "id": "9e25bc06",
   "metadata": {},
   "outputs": [
    {
     "data": {
      "text/html": [
       "<div>\n",
       "<style scoped>\n",
       "    .dataframe tbody tr th:only-of-type {\n",
       "        vertical-align: middle;\n",
       "    }\n",
       "\n",
       "    .dataframe tbody tr th {\n",
       "        vertical-align: top;\n",
       "    }\n",
       "\n",
       "    .dataframe thead th {\n",
       "        text-align: right;\n",
       "    }\n",
       "</style>\n",
       "<table border=\"1\" class=\"dataframe\">\n",
       "  <thead>\n",
       "    <tr style=\"text-align: right;\">\n",
       "      <th></th>\n",
       "      <th>words</th>\n",
       "      <th>frequency_count</th>\n",
       "    </tr>\n",
       "  </thead>\n",
       "  <tbody>\n",
       "    <tr>\n",
       "      <th>0</th>\n",
       "      <td>happy</td>\n",
       "      <td>17</td>\n",
       "    </tr>\n",
       "    <tr>\n",
       "      <th>1</th>\n",
       "      <td>birthday</td>\n",
       "      <td>13</td>\n",
       "    </tr>\n",
       "    <tr>\n",
       "      <th>2</th>\n",
       "      <td>face_with_tears_of_joyface_with_tears_of_joy</td>\n",
       "      <td>11</td>\n",
       "    </tr>\n",
       "    <tr>\n",
       "      <th>3</th>\n",
       "      <td>sakshi</td>\n",
       "      <td>11</td>\n",
       "    </tr>\n",
       "    <tr>\n",
       "      <th>4</th>\n",
       "      <td>baat</td>\n",
       "      <td>9</td>\n",
       "    </tr>\n",
       "    <tr>\n",
       "      <th>5</th>\n",
       "      <td>office</td>\n",
       "      <td>6</td>\n",
       "    </tr>\n",
       "    <tr>\n",
       "      <th>6</th>\n",
       "      <td>call</td>\n",
       "      <td>5</td>\n",
       "    </tr>\n",
       "    <tr>\n",
       "      <th>7</th>\n",
       "      <td>haha</td>\n",
       "      <td>5</td>\n",
       "    </tr>\n",
       "    <tr>\n",
       "      <th>8</th>\n",
       "      <td>hitin</td>\n",
       "      <td>5</td>\n",
       "    </tr>\n",
       "    <tr>\n",
       "      <th>9</th>\n",
       "      <td>debjeet</td>\n",
       "      <td>5</td>\n",
       "    </tr>\n",
       "  </tbody>\n",
       "</table>\n",
       "</div>"
      ],
      "text/plain": [
       "                                          words  frequency_count\n",
       "0                                         happy               17\n",
       "1                                      birthday               13\n",
       "2  face_with_tears_of_joyface_with_tears_of_joy               11\n",
       "3                                        sakshi               11\n",
       "4                                          baat                9\n",
       "5                                        office                6\n",
       "6                                          call                5\n",
       "7                                          haha                5\n",
       "8                                         hitin                5\n",
       "9                                       debjeet                5"
      ]
     },
     "execution_count": 70,
     "metadata": {},
     "output_type": "execute_result"
    }
   ],
   "source": [
    " cw = pd.DataFrame(Counter(w111).most_common(10)).rename(columns={0:'words',1:'frequency_count'})\n",
    "cw"
   ]
  },
  {
   "cell_type": "code",
   "execution_count": 71,
   "id": "5a4e98de",
   "metadata": {},
   "outputs": [
    {
     "data": {
      "image/png": "[encoded data removed]",
      "text/plain": [
       "<Figure size 432x288 with 1 Axes>"
      ]
     },
     "metadata": {
      "needs_background": "light"
     },
     "output_type": "display_data"
    }
   ],
   "source": [
    "fig,ax = plt.subplots()\n",
    "ax.bar(cw['words'],cw['frequency_count'],color='blue')\n",
    "plt.grid(axis='both',color='black')\n",
    "ax.set_facecolor(\"yellow\")\n",
    "sns.set_style('dark')\n",
    "plt.xticks(rotation = 'vertical')\n",
    "plt.show()\n"
   ]
  },
  {
   "cell_type": "code",
   "execution_count": 72,
   "id": "544208af",
   "metadata": {},
   "outputs": [
    {
     "data": {
      "text/plain": [
       "0       Messages and calls are end to end encrypted. ...\n",
       "1                                You created group \"Abc\"\n",
       "2       You changed the subject from \"Abc\" to \"Teen P...\n",
       "3                                 Hah bhai naam sahe hai\n",
       "4                                     Teen parinde 😂😜😂😜😂\n",
       "                             ...                        \n",
       "567     Aaj @919431571432 @919773577656  tum dono ne ...\n",
       "568                                      <Media omitted>\n",
       "569     Kha ho sablog ?? @919773577656 @918882992849 ...\n",
       "570                                      <Media omitted>\n",
       "571            Yuvraj Fis Team changed this group's icon\n",
       "Name: msg1, Length: 552, dtype: object"
      ]
     },
     "execution_count": 72,
     "metadata": {},
     "output_type": "execute_result"
    }
   ],
   "source": [
    "df['msg1']"
   ]
  },
  {
   "cell_type": "code",
   "execution_count": 73,
   "id": "e193bd91",
   "metadata": {},
   "outputs": [
    {
     "name": "stdout",
     "output_type": "stream",
     "text": [
      "Requirement already satisfied: emoji in c:\\zz-hitin\\anaconda\\anaconda3\\lib\\site-packages (1.7.0)\n",
      "Note: you may need to restart the kernel to use updated packages.\n"
     ]
    }
   ],
   "source": [
    "pip install emoji"
   ]
  },
  {
   "cell_type": "code",
   "execution_count": 74,
   "id": "f14bf34b",
   "metadata": {},
   "outputs": [
    {
     "name": "stdout",
     "output_type": "stream",
     "text": [
      "True\n",
      "True\n"
     ]
    }
   ],
   "source": [
    "import emoji\n",
    "\n",
    "c= '😒'\n",
    "c1 = '❤️'\n",
    "print(c1 in emoji.UNICODE_EMOJI['en'])\n",
    "print(c in emoji.UNICODE_EMOJI['en'])"
   ]
  },
  {
   "cell_type": "code",
   "execution_count": 75,
   "id": "0b9e7913",
   "metadata": {},
   "outputs": [
    {
     "name": "stdout",
     "output_type": "stream",
     "text": [
      "['😂', '😜', '😂', '😜', '😂', '😂', '😅', '😁', '😎', '✌', '🏻', '✌', '🏻', '😹', '😁', '😂', '😅', '🤗', '🤪', '😁']\n"
     ]
    }
   ],
   "source": [
    "e=[]\n",
    "for i in df['msg1']:\n",
    "    e.extend([j for j in i if j in emoji.UNICODE_EMOJI['en']])\n",
    "    \n",
    "print(e[:20])"
   ]
  },
  {
   "cell_type": "code",
   "execution_count": 76,
   "id": "2e43201f",
   "metadata": {},
   "outputs": [
    {
     "data": {
      "text/html": [
       "<div>\n",
       "<style scoped>\n",
       "    .dataframe tbody tr th:only-of-type {\n",
       "        vertical-align: middle;\n",
       "    }\n",
       "\n",
       "    .dataframe tbody tr th {\n",
       "        vertical-align: top;\n",
       "    }\n",
       "\n",
       "    .dataframe thead th {\n",
       "        text-align: right;\n",
       "    }\n",
       "</style>\n",
       "<table border=\"1\" class=\"dataframe\">\n",
       "  <thead>\n",
       "    <tr style=\"text-align: right;\">\n",
       "      <th></th>\n",
       "      <th>0</th>\n",
       "      <th>1</th>\n",
       "    </tr>\n",
       "  </thead>\n",
       "  <tbody>\n",
       "    <tr>\n",
       "      <th>0</th>\n",
       "      <td>😂</td>\n",
       "      <td>105</td>\n",
       "    </tr>\n",
       "    <tr>\n",
       "      <th>1</th>\n",
       "      <td>🤣</td>\n",
       "      <td>36</td>\n",
       "    </tr>\n",
       "    <tr>\n",
       "      <th>2</th>\n",
       "      <td>❤</td>\n",
       "      <td>28</td>\n",
       "    </tr>\n",
       "    <tr>\n",
       "      <th>3</th>\n",
       "      <td>😅</td>\n",
       "      <td>25</td>\n",
       "    </tr>\n",
       "    <tr>\n",
       "      <th>4</th>\n",
       "      <td>🤪</td>\n",
       "      <td>17</td>\n",
       "    </tr>\n",
       "    <tr>\n",
       "      <th>5</th>\n",
       "      <td>♥</td>\n",
       "      <td>13</td>\n",
       "    </tr>\n",
       "    <tr>\n",
       "      <th>6</th>\n",
       "      <td>🥳</td>\n",
       "      <td>12</td>\n",
       "    </tr>\n",
       "    <tr>\n",
       "      <th>7</th>\n",
       "      <td>🥂</td>\n",
       "      <td>12</td>\n",
       "    </tr>\n",
       "    <tr>\n",
       "      <th>8</th>\n",
       "      <td>😁</td>\n",
       "      <td>9</td>\n",
       "    </tr>\n",
       "    <tr>\n",
       "      <th>9</th>\n",
       "      <td>🏻</td>\n",
       "      <td>9</td>\n",
       "    </tr>\n",
       "  </tbody>\n",
       "</table>\n",
       "</div>"
      ],
      "text/plain": [
       "   0    1\n",
       "0  😂  105\n",
       "1  🤣   36\n",
       "2  ❤   28\n",
       "3  😅   25\n",
       "4  🤪   17\n",
       "5  ♥   13\n",
       "6  🥳   12\n",
       "7  🥂   12\n",
       "8  😁    9\n",
       "9  🏻    9"
      ]
     },
     "execution_count": 76,
     "metadata": {},
     "output_type": "execute_result"
    }
   ],
   "source": [
    "pd.DataFrame(Counter(e).most_common(10))"
   ]
  },
  {
   "cell_type": "code",
   "execution_count": 77,
   "id": "83b5ceef",
   "metadata": {},
   "outputs": [],
   "source": [
    "ce = pd.DataFrame(Counter(e).most_common(5)).rename(columns={0:'emoji',1:'frequency_count'})"
   ]
  },
  {
   "cell_type": "code",
   "execution_count": 78,
   "id": "e09876a7",
   "metadata": {},
   "outputs": [],
   "source": [
    "ce.index.rename('index',inplace=True)"
   ]
  },
  {
   "cell_type": "code",
   "execution_count": 79,
   "id": "819f00ca",
   "metadata": {},
   "outputs": [
    {
     "data": {
      "text/html": [
       "<div>\n",
       "<style scoped>\n",
       "    .dataframe tbody tr th:only-of-type {\n",
       "        vertical-align: middle;\n",
       "    }\n",
       "\n",
       "    .dataframe tbody tr th {\n",
       "        vertical-align: top;\n",
       "    }\n",
       "\n",
       "    .dataframe thead th {\n",
       "        text-align: right;\n",
       "    }\n",
       "</style>\n",
       "<table border=\"1\" class=\"dataframe\">\n",
       "  <thead>\n",
       "    <tr style=\"text-align: right;\">\n",
       "      <th></th>\n",
       "      <th>emoji</th>\n",
       "      <th>frequency_count</th>\n",
       "    </tr>\n",
       "    <tr>\n",
       "      <th>index</th>\n",
       "      <th></th>\n",
       "      <th></th>\n",
       "    </tr>\n",
       "  </thead>\n",
       "  <tbody>\n",
       "    <tr>\n",
       "      <th>0</th>\n",
       "      <td>😂</td>\n",
       "      <td>105</td>\n",
       "    </tr>\n",
       "    <tr>\n",
       "      <th>1</th>\n",
       "      <td>🤣</td>\n",
       "      <td>36</td>\n",
       "    </tr>\n",
       "    <tr>\n",
       "      <th>2</th>\n",
       "      <td>❤</td>\n",
       "      <td>28</td>\n",
       "    </tr>\n",
       "    <tr>\n",
       "      <th>3</th>\n",
       "      <td>😅</td>\n",
       "      <td>25</td>\n",
       "    </tr>\n",
       "    <tr>\n",
       "      <th>4</th>\n",
       "      <td>🤪</td>\n",
       "      <td>17</td>\n",
       "    </tr>\n",
       "  </tbody>\n",
       "</table>\n",
       "</div>"
      ],
      "text/plain": [
       "      emoji  frequency_count\n",
       "index                       \n",
       "0         😂              105\n",
       "1         🤣               36\n",
       "2         ❤               28\n",
       "3         😅               25\n",
       "4         🤪               17"
      ]
     },
     "execution_count": 79,
     "metadata": {},
     "output_type": "execute_result"
    }
   ],
   "source": [
    "ce"
   ]
  },
  {
   "cell_type": "code",
   "execution_count": 80,
   "id": "27d15daa",
   "metadata": {},
   "outputs": [
    {
     "data": {
      "image/png": "[encoded data removed]",
      "text/plain": [
       "<Figure size 432x288 with 1 Axes>"
      ]
     },
     "metadata": {},
     "output_type": "display_data"
    }
   ],
   "source": [
    "plt.pie(ce['frequency_count'],labels = ce.index,autopct=\"%0.2F%%\")\n",
    "plt.show()"
   ]
  },
  {
   "cell_type": "code",
   "execution_count": null,
   "id": "7e14385e",
   "metadata": {},
   "outputs": [],
   "source": []
  },
  {
   "cell_type": "code",
   "execution_count": 81,
   "id": "27300afe",
   "metadata": {},
   "outputs": [],
   "source": [
    "df['mont_num'] = df['time2'].dt.month"
   ]
  },
  {
   "cell_type": "code",
   "execution_count": 82,
   "id": "8479a927",
   "metadata": {},
   "outputs": [
    {
     "data": {
      "text/html": [
       "<div>\n",
       "<style scoped>\n",
       "    .dataframe tbody tr th:only-of-type {\n",
       "        vertical-align: middle;\n",
       "    }\n",
       "\n",
       "    .dataframe tbody tr th {\n",
       "        vertical-align: top;\n",
       "    }\n",
       "\n",
       "    .dataframe thead th {\n",
       "        text-align: right;\n",
       "    }\n",
       "</style>\n",
       "<table border=\"1\" class=\"dataframe\">\n",
       "  <thead>\n",
       "    <tr style=\"text-align: right;\">\n",
       "      <th></th>\n",
       "      <th>user</th>\n",
       "      <th>msg1</th>\n",
       "      <th>time2</th>\n",
       "      <th>year</th>\n",
       "      <th>month</th>\n",
       "      <th>day</th>\n",
       "      <th>hour</th>\n",
       "      <th>min</th>\n",
       "      <th>mont_num</th>\n",
       "    </tr>\n",
       "  </thead>\n",
       "  <tbody>\n",
       "    <tr>\n",
       "      <th>0</th>\n",
       "      <td>Group_Notification</td>\n",
       "      <td>Messages and calls are end to end encrypted. ...</td>\n",
       "      <td>2021-08-25 13:46:00</td>\n",
       "      <td>2021</td>\n",
       "      <td>August</td>\n",
       "      <td>25</td>\n",
       "      <td>13</td>\n",
       "      <td>46</td>\n",
       "      <td>8</td>\n",
       "    </tr>\n",
       "    <tr>\n",
       "      <th>1</th>\n",
       "      <td>Group_Notification</td>\n",
       "      <td>You created group \"Abc\"</td>\n",
       "      <td>2021-08-25 13:46:00</td>\n",
       "      <td>2021</td>\n",
       "      <td>August</td>\n",
       "      <td>25</td>\n",
       "      <td>13</td>\n",
       "      <td>46</td>\n",
       "      <td>8</td>\n",
       "    </tr>\n",
       "    <tr>\n",
       "      <th>2</th>\n",
       "      <td>Group_Notification</td>\n",
       "      <td>You changed the subject from \"Abc\" to \"Teen P...</td>\n",
       "      <td>2021-08-25 13:48:00</td>\n",
       "      <td>2021</td>\n",
       "      <td>August</td>\n",
       "      <td>25</td>\n",
       "      <td>13</td>\n",
       "      <td>48</td>\n",
       "      <td>8</td>\n",
       "    </tr>\n",
       "    <tr>\n",
       "      <th>3</th>\n",
       "      <td>Yuvraj Fis Team</td>\n",
       "      <td>Hah bhai naam sahe hai</td>\n",
       "      <td>2021-08-25 13:50:00</td>\n",
       "      <td>2021</td>\n",
       "      <td>August</td>\n",
       "      <td>25</td>\n",
       "      <td>13</td>\n",
       "      <td>50</td>\n",
       "      <td>8</td>\n",
       "    </tr>\n",
       "    <tr>\n",
       "      <th>4</th>\n",
       "      <td>Yuvraj Fis Team</td>\n",
       "      <td>Teen parinde 😂😜😂😜😂</td>\n",
       "      <td>2021-08-25 13:50:00</td>\n",
       "      <td>2021</td>\n",
       "      <td>August</td>\n",
       "      <td>25</td>\n",
       "      <td>13</td>\n",
       "      <td>50</td>\n",
       "      <td>8</td>\n",
       "    </tr>\n",
       "    <tr>\n",
       "      <th>...</th>\n",
       "      <td>...</td>\n",
       "      <td>...</td>\n",
       "      <td>...</td>\n",
       "      <td>...</td>\n",
       "      <td>...</td>\n",
       "      <td>...</td>\n",
       "      <td>...</td>\n",
       "      <td>...</td>\n",
       "      <td>...</td>\n",
       "    </tr>\n",
       "    <tr>\n",
       "      <th>567</th>\n",
       "      <td>Yuvraj Fis Team</td>\n",
       "      <td>Aaj @919431571432 @919773577656  tum dono ne ...</td>\n",
       "      <td>2022-04-03 20:09:00</td>\n",
       "      <td>2022</td>\n",
       "      <td>April</td>\n",
       "      <td>3</td>\n",
       "      <td>20</td>\n",
       "      <td>9</td>\n",
       "      <td>4</td>\n",
       "    </tr>\n",
       "    <tr>\n",
       "      <th>568</th>\n",
       "      <td>Yuvraj Fis Team</td>\n",
       "      <td>&lt;Media omitted&gt;</td>\n",
       "      <td>2022-04-03 20:09:00</td>\n",
       "      <td>2022</td>\n",
       "      <td>April</td>\n",
       "      <td>3</td>\n",
       "      <td>20</td>\n",
       "      <td>9</td>\n",
       "      <td>4</td>\n",
       "    </tr>\n",
       "    <tr>\n",
       "      <th>569</th>\n",
       "      <td>Sakshi Fis Team</td>\n",
       "      <td>Kha ho sablog ?? @919773577656 @918882992849 ...</td>\n",
       "      <td>2022-04-06 00:13:00</td>\n",
       "      <td>2022</td>\n",
       "      <td>April</td>\n",
       "      <td>6</td>\n",
       "      <td>0</td>\n",
       "      <td>13</td>\n",
       "      <td>4</td>\n",
       "    </tr>\n",
       "    <tr>\n",
       "      <th>570</th>\n",
       "      <td>Priyanshu Fis Team</td>\n",
       "      <td>&lt;Media omitted&gt;</td>\n",
       "      <td>2022-04-06 00:30:00</td>\n",
       "      <td>2022</td>\n",
       "      <td>April</td>\n",
       "      <td>6</td>\n",
       "      <td>0</td>\n",
       "      <td>30</td>\n",
       "      <td>4</td>\n",
       "    </tr>\n",
       "    <tr>\n",
       "      <th>571</th>\n",
       "      <td>Group_Notification</td>\n",
       "      <td>Yuvraj Fis Team changed this group's icon</td>\n",
       "      <td>2022-04-06 10:42:00</td>\n",
       "      <td>2022</td>\n",
       "      <td>April</td>\n",
       "      <td>6</td>\n",
       "      <td>10</td>\n",
       "      <td>42</td>\n",
       "      <td>4</td>\n",
       "    </tr>\n",
       "  </tbody>\n",
       "</table>\n",
       "<p>552 rows × 9 columns</p>\n",
       "</div>"
      ],
      "text/plain": [
       "                    user                                               msg1  \\\n",
       "0     Group_Notification   Messages and calls are end to end encrypted. ...   \n",
       "1     Group_Notification                            You created group \"Abc\"   \n",
       "2     Group_Notification   You changed the subject from \"Abc\" to \"Teen P...   \n",
       "3        Yuvraj Fis Team                             Hah bhai naam sahe hai   \n",
       "4        Yuvraj Fis Team                                 Teen parinde 😂😜😂😜😂   \n",
       "..                   ...                                                ...   \n",
       "567      Yuvraj Fis Team   Aaj @919431571432 @919773577656  tum dono ne ...   \n",
       "568      Yuvraj Fis Team                                    <Media omitted>   \n",
       "569      Sakshi Fis Team   Kha ho sablog ?? @919773577656 @918882992849 ...   \n",
       "570   Priyanshu Fis Team                                    <Media omitted>   \n",
       "571   Group_Notification          Yuvraj Fis Team changed this group's icon   \n",
       "\n",
       "                  time2  year   month  day  hour  min  mont_num  \n",
       "0   2021-08-25 13:46:00  2021  August   25    13   46         8  \n",
       "1   2021-08-25 13:46:00  2021  August   25    13   46         8  \n",
       "2   2021-08-25 13:48:00  2021  August   25    13   48         8  \n",
       "3   2021-08-25 13:50:00  2021  August   25    13   50         8  \n",
       "4   2021-08-25 13:50:00  2021  August   25    13   50         8  \n",
       "..                  ...   ...     ...  ...   ...  ...       ...  \n",
       "567 2022-04-03 20:09:00  2022   April    3    20    9         4  \n",
       "568 2022-04-03 20:09:00  2022   April    3    20    9         4  \n",
       "569 2022-04-06 00:13:00  2022   April    6     0   13         4  \n",
       "570 2022-04-06 00:30:00  2022   April    6     0   30         4  \n",
       "571 2022-04-06 10:42:00  2022   April    6    10   42         4  \n",
       "\n",
       "[552 rows x 9 columns]"
      ]
     },
     "execution_count": 82,
     "metadata": {},
     "output_type": "execute_result"
    }
   ],
   "source": [
    "df"
   ]
  },
  {
   "cell_type": "code",
   "execution_count": 83,
   "id": "d0ce8d3a",
   "metadata": {},
   "outputs": [
    {
     "data": {
      "text/html": [
       "<div>\n",
       "<style scoped>\n",
       "    .dataframe tbody tr th:only-of-type {\n",
       "        vertical-align: middle;\n",
       "    }\n",
       "\n",
       "    .dataframe tbody tr th {\n",
       "        vertical-align: top;\n",
       "    }\n",
       "\n",
       "    .dataframe thead th {\n",
       "        text-align: right;\n",
       "    }\n",
       "</style>\n",
       "<table border=\"1\" class=\"dataframe\">\n",
       "  <thead>\n",
       "    <tr style=\"text-align: right;\">\n",
       "      <th></th>\n",
       "      <th>year</th>\n",
       "      <th>mont_num</th>\n",
       "      <th>month</th>\n",
       "      <th>msg1</th>\n",
       "    </tr>\n",
       "  </thead>\n",
       "  <tbody>\n",
       "    <tr>\n",
       "      <th>0</th>\n",
       "      <td>2021</td>\n",
       "      <td>8</td>\n",
       "      <td>August</td>\n",
       "      <td>78</td>\n",
       "    </tr>\n",
       "    <tr>\n",
       "      <th>1</th>\n",
       "      <td>2021</td>\n",
       "      <td>9</td>\n",
       "      <td>September</td>\n",
       "      <td>71</td>\n",
       "    </tr>\n",
       "    <tr>\n",
       "      <th>2</th>\n",
       "      <td>2021</td>\n",
       "      <td>10</td>\n",
       "      <td>October</td>\n",
       "      <td>108</td>\n",
       "    </tr>\n",
       "    <tr>\n",
       "      <th>3</th>\n",
       "      <td>2021</td>\n",
       "      <td>11</td>\n",
       "      <td>November</td>\n",
       "      <td>22</td>\n",
       "    </tr>\n",
       "    <tr>\n",
       "      <th>4</th>\n",
       "      <td>2021</td>\n",
       "      <td>12</td>\n",
       "      <td>December</td>\n",
       "      <td>62</td>\n",
       "    </tr>\n",
       "    <tr>\n",
       "      <th>5</th>\n",
       "      <td>2022</td>\n",
       "      <td>1</td>\n",
       "      <td>January</td>\n",
       "      <td>119</td>\n",
       "    </tr>\n",
       "    <tr>\n",
       "      <th>6</th>\n",
       "      <td>2022</td>\n",
       "      <td>2</td>\n",
       "      <td>February</td>\n",
       "      <td>42</td>\n",
       "    </tr>\n",
       "    <tr>\n",
       "      <th>7</th>\n",
       "      <td>2022</td>\n",
       "      <td>3</td>\n",
       "      <td>March</td>\n",
       "      <td>44</td>\n",
       "    </tr>\n",
       "    <tr>\n",
       "      <th>8</th>\n",
       "      <td>2022</td>\n",
       "      <td>4</td>\n",
       "      <td>April</td>\n",
       "      <td>6</td>\n",
       "    </tr>\n",
       "  </tbody>\n",
       "</table>\n",
       "</div>"
      ],
      "text/plain": [
       "   year  mont_num      month  msg1\n",
       "0  2021         8     August    78\n",
       "1  2021         9  September    71\n",
       "2  2021        10    October   108\n",
       "3  2021        11   November    22\n",
       "4  2021        12   December    62\n",
       "5  2022         1    January   119\n",
       "6  2022         2   February    42\n",
       "7  2022         3      March    44\n",
       "8  2022         4      April     6"
      ]
     },
     "execution_count": 83,
     "metadata": {},
     "output_type": "execute_result"
    }
   ],
   "source": [
    "timeline = df.groupby(['year','mont_num','month']).count()['msg1'].reset_index()\n",
    "timeline"
   ]
  },
  {
   "cell_type": "code",
   "execution_count": 84,
   "id": "997349e2",
   "metadata": {},
   "outputs": [
    {
     "data": {
      "text/plain": [
       "9"
      ]
     },
     "execution_count": 84,
     "metadata": {},
     "output_type": "execute_result"
    }
   ],
   "source": [
    "timeline.shape[0]"
   ]
  },
  {
   "cell_type": "code",
   "execution_count": 85,
   "id": "5fcd7953",
   "metadata": {},
   "outputs": [],
   "source": [
    "t = []\n",
    "for i in range(timeline.shape[0]):\n",
    "    t.append(timeline['month'][i] + \"-\" + str(timeline['year'][i])) "
   ]
  },
  {
   "cell_type": "code",
   "execution_count": 86,
   "id": "7678a2d4",
   "metadata": {},
   "outputs": [],
   "source": [
    "timeline['timmi'] = t"
   ]
  },
  {
   "cell_type": "code",
   "execution_count": 87,
   "id": "ed74c0a5",
   "metadata": {},
   "outputs": [
    {
     "data": {
      "text/html": [
       "<div>\n",
       "<style scoped>\n",
       "    .dataframe tbody tr th:only-of-type {\n",
       "        vertical-align: middle;\n",
       "    }\n",
       "\n",
       "    .dataframe tbody tr th {\n",
       "        vertical-align: top;\n",
       "    }\n",
       "\n",
       "    .dataframe thead th {\n",
       "        text-align: right;\n",
       "    }\n",
       "</style>\n",
       "<table border=\"1\" class=\"dataframe\">\n",
       "  <thead>\n",
       "    <tr style=\"text-align: right;\">\n",
       "      <th></th>\n",
       "      <th>year</th>\n",
       "      <th>mont_num</th>\n",
       "      <th>month</th>\n",
       "      <th>msg1</th>\n",
       "      <th>timmi</th>\n",
       "    </tr>\n",
       "  </thead>\n",
       "  <tbody>\n",
       "    <tr>\n",
       "      <th>0</th>\n",
       "      <td>2021</td>\n",
       "      <td>8</td>\n",
       "      <td>August</td>\n",
       "      <td>78</td>\n",
       "      <td>August-2021</td>\n",
       "    </tr>\n",
       "    <tr>\n",
       "      <th>1</th>\n",
       "      <td>2021</td>\n",
       "      <td>9</td>\n",
       "      <td>September</td>\n",
       "      <td>71</td>\n",
       "      <td>September-2021</td>\n",
       "    </tr>\n",
       "    <tr>\n",
       "      <th>2</th>\n",
       "      <td>2021</td>\n",
       "      <td>10</td>\n",
       "      <td>October</td>\n",
       "      <td>108</td>\n",
       "      <td>October-2021</td>\n",
       "    </tr>\n",
       "    <tr>\n",
       "      <th>3</th>\n",
       "      <td>2021</td>\n",
       "      <td>11</td>\n",
       "      <td>November</td>\n",
       "      <td>22</td>\n",
       "      <td>November-2021</td>\n",
       "    </tr>\n",
       "    <tr>\n",
       "      <th>4</th>\n",
       "      <td>2021</td>\n",
       "      <td>12</td>\n",
       "      <td>December</td>\n",
       "      <td>62</td>\n",
       "      <td>December-2021</td>\n",
       "    </tr>\n",
       "    <tr>\n",
       "      <th>5</th>\n",
       "      <td>2022</td>\n",
       "      <td>1</td>\n",
       "      <td>January</td>\n",
       "      <td>119</td>\n",
       "      <td>January-2022</td>\n",
       "    </tr>\n",
       "    <tr>\n",
       "      <th>6</th>\n",
       "      <td>2022</td>\n",
       "      <td>2</td>\n",
       "      <td>February</td>\n",
       "      <td>42</td>\n",
       "      <td>February-2022</td>\n",
       "    </tr>\n",
       "    <tr>\n",
       "      <th>7</th>\n",
       "      <td>2022</td>\n",
       "      <td>3</td>\n",
       "      <td>March</td>\n",
       "      <td>44</td>\n",
       "      <td>March-2022</td>\n",
       "    </tr>\n",
       "    <tr>\n",
       "      <th>8</th>\n",
       "      <td>2022</td>\n",
       "      <td>4</td>\n",
       "      <td>April</td>\n",
       "      <td>6</td>\n",
       "      <td>April-2022</td>\n",
       "    </tr>\n",
       "  </tbody>\n",
       "</table>\n",
       "</div>"
      ],
      "text/plain": [
       "   year  mont_num      month  msg1           timmi\n",
       "0  2021         8     August    78     August-2021\n",
       "1  2021         9  September    71  September-2021\n",
       "2  2021        10    October   108    October-2021\n",
       "3  2021        11   November    22   November-2021\n",
       "4  2021        12   December    62   December-2021\n",
       "5  2022         1    January   119    January-2022\n",
       "6  2022         2   February    42   February-2022\n",
       "7  2022         3      March    44      March-2022\n",
       "8  2022         4      April     6      April-2022"
      ]
     },
     "execution_count": 87,
     "metadata": {},
     "output_type": "execute_result"
    }
   ],
   "source": [
    "timeline"
   ]
  },
  {
   "cell_type": "code",
   "execution_count": 88,
   "id": "e27913c5",
   "metadata": {
    "scrolled": true
   },
   "outputs": [
    {
     "data": {
      "image/png": "[encoded data removed]",
      "text/plain": [
       "<Figure size 720x288 with 1 Axes>"
      ]
     },
     "metadata": {},
     "output_type": "display_data"
    }
   ],
   "source": [
    "plt.figure(figsize=(10,4))\n",
    "plt.plot(timeline['timmi'],timeline['msg1'],marker='.',mfc ='y',ms=10)\n",
    "plt.xticks(rotation='vertical')\n",
    "plt.show()"
   ]
  },
  {
   "cell_type": "code",
   "execution_count": 89,
   "id": "f0555eef",
   "metadata": {},
   "outputs": [
    {
     "data": {
      "text/plain": [
       "index\n",
       "0    105\n",
       "1     36\n",
       "2     28\n",
       "3     25\n",
       "4     17\n",
       "Name: frequency_count, dtype: int64"
      ]
     },
     "execution_count": 89,
     "metadata": {},
     "output_type": "execute_result"
    }
   ],
   "source": [
    "ce['frequency_count']"
   ]
  },
  {
   "cell_type": "code",
   "execution_count": 90,
   "id": "f2e641da",
   "metadata": {},
   "outputs": [
    {
     "data": {
      "text/html": [
       "<div>\n",
       "<style scoped>\n",
       "    .dataframe tbody tr th:only-of-type {\n",
       "        vertical-align: middle;\n",
       "    }\n",
       "\n",
       "    .dataframe tbody tr th {\n",
       "        vertical-align: top;\n",
       "    }\n",
       "\n",
       "    .dataframe thead th {\n",
       "        text-align: right;\n",
       "    }\n",
       "</style>\n",
       "<table border=\"1\" class=\"dataframe\">\n",
       "  <thead>\n",
       "    <tr style=\"text-align: right;\">\n",
       "      <th></th>\n",
       "      <th>user</th>\n",
       "      <th>msg1</th>\n",
       "      <th>time2</th>\n",
       "      <th>year</th>\n",
       "      <th>month</th>\n",
       "      <th>day</th>\n",
       "      <th>hour</th>\n",
       "      <th>min</th>\n",
       "      <th>mont_num</th>\n",
       "    </tr>\n",
       "  </thead>\n",
       "  <tbody>\n",
       "    <tr>\n",
       "      <th>0</th>\n",
       "      <td>Group_Notification</td>\n",
       "      <td>Messages and calls are end to end encrypted. ...</td>\n",
       "      <td>2021-08-25 13:46:00</td>\n",
       "      <td>2021</td>\n",
       "      <td>August</td>\n",
       "      <td>25</td>\n",
       "      <td>13</td>\n",
       "      <td>46</td>\n",
       "      <td>8</td>\n",
       "    </tr>\n",
       "    <tr>\n",
       "      <th>1</th>\n",
       "      <td>Group_Notification</td>\n",
       "      <td>You created group \"Abc\"</td>\n",
       "      <td>2021-08-25 13:46:00</td>\n",
       "      <td>2021</td>\n",
       "      <td>August</td>\n",
       "      <td>25</td>\n",
       "      <td>13</td>\n",
       "      <td>46</td>\n",
       "      <td>8</td>\n",
       "    </tr>\n",
       "    <tr>\n",
       "      <th>2</th>\n",
       "      <td>Group_Notification</td>\n",
       "      <td>You changed the subject from \"Abc\" to \"Teen P...</td>\n",
       "      <td>2021-08-25 13:48:00</td>\n",
       "      <td>2021</td>\n",
       "      <td>August</td>\n",
       "      <td>25</td>\n",
       "      <td>13</td>\n",
       "      <td>48</td>\n",
       "      <td>8</td>\n",
       "    </tr>\n",
       "    <tr>\n",
       "      <th>3</th>\n",
       "      <td>Yuvraj Fis Team</td>\n",
       "      <td>Hah bhai naam sahe hai</td>\n",
       "      <td>2021-08-25 13:50:00</td>\n",
       "      <td>2021</td>\n",
       "      <td>August</td>\n",
       "      <td>25</td>\n",
       "      <td>13</td>\n",
       "      <td>50</td>\n",
       "      <td>8</td>\n",
       "    </tr>\n",
       "    <tr>\n",
       "      <th>4</th>\n",
       "      <td>Yuvraj Fis Team</td>\n",
       "      <td>Teen parinde 😂😜😂😜😂</td>\n",
       "      <td>2021-08-25 13:50:00</td>\n",
       "      <td>2021</td>\n",
       "      <td>August</td>\n",
       "      <td>25</td>\n",
       "      <td>13</td>\n",
       "      <td>50</td>\n",
       "      <td>8</td>\n",
       "    </tr>\n",
       "    <tr>\n",
       "      <th>...</th>\n",
       "      <td>...</td>\n",
       "      <td>...</td>\n",
       "      <td>...</td>\n",
       "      <td>...</td>\n",
       "      <td>...</td>\n",
       "      <td>...</td>\n",
       "      <td>...</td>\n",
       "      <td>...</td>\n",
       "      <td>...</td>\n",
       "    </tr>\n",
       "    <tr>\n",
       "      <th>567</th>\n",
       "      <td>Yuvraj Fis Team</td>\n",
       "      <td>Aaj @919431571432 @919773577656  tum dono ne ...</td>\n",
       "      <td>2022-04-03 20:09:00</td>\n",
       "      <td>2022</td>\n",
       "      <td>April</td>\n",
       "      <td>3</td>\n",
       "      <td>20</td>\n",
       "      <td>9</td>\n",
       "      <td>4</td>\n",
       "    </tr>\n",
       "    <tr>\n",
       "      <th>568</th>\n",
       "      <td>Yuvraj Fis Team</td>\n",
       "      <td>&lt;Media omitted&gt;</td>\n",
       "      <td>2022-04-03 20:09:00</td>\n",
       "      <td>2022</td>\n",
       "      <td>April</td>\n",
       "      <td>3</td>\n",
       "      <td>20</td>\n",
       "      <td>9</td>\n",
       "      <td>4</td>\n",
       "    </tr>\n",
       "    <tr>\n",
       "      <th>569</th>\n",
       "      <td>Sakshi Fis Team</td>\n",
       "      <td>Kha ho sablog ?? @919773577656 @918882992849 ...</td>\n",
       "      <td>2022-04-06 00:13:00</td>\n",
       "      <td>2022</td>\n",
       "      <td>April</td>\n",
       "      <td>6</td>\n",
       "      <td>0</td>\n",
       "      <td>13</td>\n",
       "      <td>4</td>\n",
       "    </tr>\n",
       "    <tr>\n",
       "      <th>570</th>\n",
       "      <td>Priyanshu Fis Team</td>\n",
       "      <td>&lt;Media omitted&gt;</td>\n",
       "      <td>2022-04-06 00:30:00</td>\n",
       "      <td>2022</td>\n",
       "      <td>April</td>\n",
       "      <td>6</td>\n",
       "      <td>0</td>\n",
       "      <td>30</td>\n",
       "      <td>4</td>\n",
       "    </tr>\n",
       "    <tr>\n",
       "      <th>571</th>\n",
       "      <td>Group_Notification</td>\n",
       "      <td>Yuvraj Fis Team changed this group's icon</td>\n",
       "      <td>2022-04-06 10:42:00</td>\n",
       "      <td>2022</td>\n",
       "      <td>April</td>\n",
       "      <td>6</td>\n",
       "      <td>10</td>\n",
       "      <td>42</td>\n",
       "      <td>4</td>\n",
       "    </tr>\n",
       "  </tbody>\n",
       "</table>\n",
       "<p>552 rows × 9 columns</p>\n",
       "</div>"
      ],
      "text/plain": [
       "                    user                                               msg1  \\\n",
       "0     Group_Notification   Messages and calls are end to end encrypted. ...   \n",
       "1     Group_Notification                            You created group \"Abc\"   \n",
       "2     Group_Notification   You changed the subject from \"Abc\" to \"Teen P...   \n",
       "3        Yuvraj Fis Team                             Hah bhai naam sahe hai   \n",
       "4        Yuvraj Fis Team                                 Teen parinde 😂😜😂😜😂   \n",
       "..                   ...                                                ...   \n",
       "567      Yuvraj Fis Team   Aaj @919431571432 @919773577656  tum dono ne ...   \n",
       "568      Yuvraj Fis Team                                    <Media omitted>   \n",
       "569      Sakshi Fis Team   Kha ho sablog ?? @919773577656 @918882992849 ...   \n",
       "570   Priyanshu Fis Team                                    <Media omitted>   \n",
       "571   Group_Notification          Yuvraj Fis Team changed this group's icon   \n",
       "\n",
       "                  time2  year   month  day  hour  min  mont_num  \n",
       "0   2021-08-25 13:46:00  2021  August   25    13   46         8  \n",
       "1   2021-08-25 13:46:00  2021  August   25    13   46         8  \n",
       "2   2021-08-25 13:48:00  2021  August   25    13   48         8  \n",
       "3   2021-08-25 13:50:00  2021  August   25    13   50         8  \n",
       "4   2021-08-25 13:50:00  2021  August   25    13   50         8  \n",
       "..                  ...   ...     ...  ...   ...  ...       ...  \n",
       "567 2022-04-03 20:09:00  2022   April    3    20    9         4  \n",
       "568 2022-04-03 20:09:00  2022   April    3    20    9         4  \n",
       "569 2022-04-06 00:13:00  2022   April    6     0   13         4  \n",
       "570 2022-04-06 00:30:00  2022   April    6     0   30         4  \n",
       "571 2022-04-06 10:42:00  2022   April    6    10   42         4  \n",
       "\n",
       "[552 rows x 9 columns]"
      ]
     },
     "execution_count": 90,
     "metadata": {},
     "output_type": "execute_result"
    }
   ],
   "source": [
    "df"
   ]
  },
  {
   "cell_type": "code",
   "execution_count": 91,
   "id": "a5104975",
   "metadata": {},
   "outputs": [],
   "source": [
    "df['day_name'] = df['time2'].dt.day_name()"
   ]
  },
  {
   "cell_type": "code",
   "execution_count": 92,
   "id": "96b223af",
   "metadata": {},
   "outputs": [],
   "source": [
    "df['hour1'] = df['hour'].replace(0,24)"
   ]
  },
  {
   "cell_type": "code",
   "execution_count": 93,
   "id": "0406e249",
   "metadata": {},
   "outputs": [
    {
     "data": {
      "text/plain": [
       "['13.00 pm', '13.00 pm', '13.00 pm', '13.00 pm', '13.00 pm']"
      ]
     },
     "execution_count": 93,
     "metadata": {},
     "output_type": "execute_result"
    }
   ],
   "source": [
    "n1 = [1,2,3,4,5,6,7,8,9,10,11,0]\n",
    "n2 = []\n",
    "for i in df['hour']:\n",
    "    if i in n1:\n",
    "        #print(str(i),\"pm\")\n",
    "        n2.append((str(i) + \".00\" + \" am\"))\n",
    "    else:\n",
    "        #print(str(i),\"am\")\n",
    "        n2.append((str(i) + \".00\" + \" pm\"))\n",
    "    \n",
    "n2[:5]"
   ]
  },
  {
   "cell_type": "code",
   "execution_count": 94,
   "id": "dfb20a03",
   "metadata": {},
   "outputs": [],
   "source": [
    "df['hour22']=n2"
   ]
  },
  {
   "cell_type": "code",
   "execution_count": 95,
   "id": "de204158",
   "metadata": {},
   "outputs": [
    {
     "data": {
      "text/html": [
       "<div>\n",
       "<style scoped>\n",
       "    .dataframe tbody tr th:only-of-type {\n",
       "        vertical-align: middle;\n",
       "    }\n",
       "\n",
       "    .dataframe tbody tr th {\n",
       "        vertical-align: top;\n",
       "    }\n",
       "\n",
       "    .dataframe thead th {\n",
       "        text-align: right;\n",
       "    }\n",
       "</style>\n",
       "<table border=\"1\" class=\"dataframe\">\n",
       "  <thead>\n",
       "    <tr style=\"text-align: right;\">\n",
       "      <th>hour22</th>\n",
       "      <th>0.00 am</th>\n",
       "      <th>1.00 am</th>\n",
       "      <th>10.00 am</th>\n",
       "      <th>11.00 am</th>\n",
       "      <th>12.00 pm</th>\n",
       "      <th>13.00 pm</th>\n",
       "      <th>14.00 pm</th>\n",
       "      <th>15.00 pm</th>\n",
       "      <th>16.00 pm</th>\n",
       "      <th>17.00 pm</th>\n",
       "      <th>...</th>\n",
       "      <th>2.00 am</th>\n",
       "      <th>20.00 pm</th>\n",
       "      <th>21.00 pm</th>\n",
       "      <th>22.00 pm</th>\n",
       "      <th>23.00 pm</th>\n",
       "      <th>4.00 am</th>\n",
       "      <th>5.00 am</th>\n",
       "      <th>7.00 am</th>\n",
       "      <th>8.00 am</th>\n",
       "      <th>9.00 am</th>\n",
       "    </tr>\n",
       "    <tr>\n",
       "      <th>day_name</th>\n",
       "      <th></th>\n",
       "      <th></th>\n",
       "      <th></th>\n",
       "      <th></th>\n",
       "      <th></th>\n",
       "      <th></th>\n",
       "      <th></th>\n",
       "      <th></th>\n",
       "      <th></th>\n",
       "      <th></th>\n",
       "      <th></th>\n",
       "      <th></th>\n",
       "      <th></th>\n",
       "      <th></th>\n",
       "      <th></th>\n",
       "      <th></th>\n",
       "      <th></th>\n",
       "      <th></th>\n",
       "      <th></th>\n",
       "      <th></th>\n",
       "      <th></th>\n",
       "    </tr>\n",
       "  </thead>\n",
       "  <tbody>\n",
       "    <tr>\n",
       "      <th>Friday</th>\n",
       "      <td>14.0</td>\n",
       "      <td>4.0</td>\n",
       "      <td>9.0</td>\n",
       "      <td>0.0</td>\n",
       "      <td>7.0</td>\n",
       "      <td>2.0</td>\n",
       "      <td>1.0</td>\n",
       "      <td>0.0</td>\n",
       "      <td>3.0</td>\n",
       "      <td>8.0</td>\n",
       "      <td>...</td>\n",
       "      <td>5.0</td>\n",
       "      <td>2.0</td>\n",
       "      <td>9.0</td>\n",
       "      <td>4.0</td>\n",
       "      <td>5.0</td>\n",
       "      <td>0.0</td>\n",
       "      <td>0.0</td>\n",
       "      <td>0.0</td>\n",
       "      <td>1.0</td>\n",
       "      <td>1.0</td>\n",
       "    </tr>\n",
       "    <tr>\n",
       "      <th>Monday</th>\n",
       "      <td>18.0</td>\n",
       "      <td>1.0</td>\n",
       "      <td>7.0</td>\n",
       "      <td>11.0</td>\n",
       "      <td>2.0</td>\n",
       "      <td>2.0</td>\n",
       "      <td>1.0</td>\n",
       "      <td>1.0</td>\n",
       "      <td>8.0</td>\n",
       "      <td>11.0</td>\n",
       "      <td>...</td>\n",
       "      <td>0.0</td>\n",
       "      <td>1.0</td>\n",
       "      <td>1.0</td>\n",
       "      <td>5.0</td>\n",
       "      <td>6.0</td>\n",
       "      <td>0.0</td>\n",
       "      <td>0.0</td>\n",
       "      <td>0.0</td>\n",
       "      <td>1.0</td>\n",
       "      <td>3.0</td>\n",
       "    </tr>\n",
       "    <tr>\n",
       "      <th>Saturday</th>\n",
       "      <td>4.0</td>\n",
       "      <td>0.0</td>\n",
       "      <td>11.0</td>\n",
       "      <td>1.0</td>\n",
       "      <td>0.0</td>\n",
       "      <td>0.0</td>\n",
       "      <td>14.0</td>\n",
       "      <td>0.0</td>\n",
       "      <td>3.0</td>\n",
       "      <td>17.0</td>\n",
       "      <td>...</td>\n",
       "      <td>0.0</td>\n",
       "      <td>0.0</td>\n",
       "      <td>4.0</td>\n",
       "      <td>1.0</td>\n",
       "      <td>0.0</td>\n",
       "      <td>0.0</td>\n",
       "      <td>0.0</td>\n",
       "      <td>0.0</td>\n",
       "      <td>0.0</td>\n",
       "      <td>2.0</td>\n",
       "    </tr>\n",
       "    <tr>\n",
       "      <th>Sunday</th>\n",
       "      <td>12.0</td>\n",
       "      <td>3.0</td>\n",
       "      <td>2.0</td>\n",
       "      <td>0.0</td>\n",
       "      <td>0.0</td>\n",
       "      <td>2.0</td>\n",
       "      <td>2.0</td>\n",
       "      <td>1.0</td>\n",
       "      <td>10.0</td>\n",
       "      <td>6.0</td>\n",
       "      <td>...</td>\n",
       "      <td>2.0</td>\n",
       "      <td>4.0</td>\n",
       "      <td>7.0</td>\n",
       "      <td>2.0</td>\n",
       "      <td>5.0</td>\n",
       "      <td>1.0</td>\n",
       "      <td>1.0</td>\n",
       "      <td>1.0</td>\n",
       "      <td>4.0</td>\n",
       "      <td>3.0</td>\n",
       "    </tr>\n",
       "    <tr>\n",
       "      <th>Thursday</th>\n",
       "      <td>35.0</td>\n",
       "      <td>3.0</td>\n",
       "      <td>12.0</td>\n",
       "      <td>3.0</td>\n",
       "      <td>0.0</td>\n",
       "      <td>1.0</td>\n",
       "      <td>4.0</td>\n",
       "      <td>2.0</td>\n",
       "      <td>1.0</td>\n",
       "      <td>9.0</td>\n",
       "      <td>...</td>\n",
       "      <td>5.0</td>\n",
       "      <td>1.0</td>\n",
       "      <td>0.0</td>\n",
       "      <td>3.0</td>\n",
       "      <td>4.0</td>\n",
       "      <td>0.0</td>\n",
       "      <td>0.0</td>\n",
       "      <td>0.0</td>\n",
       "      <td>3.0</td>\n",
       "      <td>7.0</td>\n",
       "    </tr>\n",
       "    <tr>\n",
       "      <th>Tuesday</th>\n",
       "      <td>0.0</td>\n",
       "      <td>0.0</td>\n",
       "      <td>0.0</td>\n",
       "      <td>40.0</td>\n",
       "      <td>5.0</td>\n",
       "      <td>5.0</td>\n",
       "      <td>7.0</td>\n",
       "      <td>1.0</td>\n",
       "      <td>1.0</td>\n",
       "      <td>0.0</td>\n",
       "      <td>...</td>\n",
       "      <td>4.0</td>\n",
       "      <td>0.0</td>\n",
       "      <td>0.0</td>\n",
       "      <td>0.0</td>\n",
       "      <td>0.0</td>\n",
       "      <td>0.0</td>\n",
       "      <td>0.0</td>\n",
       "      <td>0.0</td>\n",
       "      <td>0.0</td>\n",
       "      <td>0.0</td>\n",
       "    </tr>\n",
       "    <tr>\n",
       "      <th>Wednesday</th>\n",
       "      <td>15.0</td>\n",
       "      <td>0.0</td>\n",
       "      <td>1.0</td>\n",
       "      <td>12.0</td>\n",
       "      <td>5.0</td>\n",
       "      <td>23.0</td>\n",
       "      <td>10.0</td>\n",
       "      <td>0.0</td>\n",
       "      <td>0.0</td>\n",
       "      <td>0.0</td>\n",
       "      <td>...</td>\n",
       "      <td>1.0</td>\n",
       "      <td>5.0</td>\n",
       "      <td>1.0</td>\n",
       "      <td>6.0</td>\n",
       "      <td>3.0</td>\n",
       "      <td>0.0</td>\n",
       "      <td>0.0</td>\n",
       "      <td>0.0</td>\n",
       "      <td>2.0</td>\n",
       "      <td>0.0</td>\n",
       "    </tr>\n",
       "  </tbody>\n",
       "</table>\n",
       "<p>7 rows × 22 columns</p>\n",
       "</div>"
      ],
      "text/plain": [
       "hour22     0.00 am  1.00 am  10.00 am  11.00 am  12.00 pm  13.00 pm  14.00 pm  \\\n",
       "day_name                                                                        \n",
       "Friday        14.0      4.0       9.0       0.0       7.0       2.0       1.0   \n",
       "Monday        18.0      1.0       7.0      11.0       2.0       2.0       1.0   \n",
       "Saturday       4.0      0.0      11.0       1.0       0.0       0.0      14.0   \n",
       "Sunday        12.0      3.0       2.0       0.0       0.0       2.0       2.0   \n",
       "Thursday      35.0      3.0      12.0       3.0       0.0       1.0       4.0   \n",
       "Tuesday        0.0      0.0       0.0      40.0       5.0       5.0       7.0   \n",
       "Wednesday     15.0      0.0       1.0      12.0       5.0      23.0      10.0   \n",
       "\n",
       "hour22     15.00 pm  16.00 pm  17.00 pm  ...  2.00 am  20.00 pm  21.00 pm  \\\n",
       "day_name                                 ...                                \n",
       "Friday          0.0       3.0       8.0  ...      5.0       2.0       9.0   \n",
       "Monday          1.0       8.0      11.0  ...      0.0       1.0       1.0   \n",
       "Saturday        0.0       3.0      17.0  ...      0.0       0.0       4.0   \n",
       "Sunday          1.0      10.0       6.0  ...      2.0       4.0       7.0   \n",
       "Thursday        2.0       1.0       9.0  ...      5.0       1.0       0.0   \n",
       "Tuesday         1.0       1.0       0.0  ...      4.0       0.0       0.0   \n",
       "Wednesday       0.0       0.0       0.0  ...      1.0       5.0       1.0   \n",
       "\n",
       "hour22     22.00 pm  23.00 pm  4.00 am  5.00 am  7.00 am  8.00 am  9.00 am  \n",
       "day_name                                                                    \n",
       "Friday          4.0       5.0      0.0      0.0      0.0      1.0      1.0  \n",
       "Monday          5.0       6.0      0.0      0.0      0.0      1.0      3.0  \n",
       "Saturday        1.0       0.0      0.0      0.0      0.0      0.0      2.0  \n",
       "Sunday          2.0       5.0      1.0      1.0      1.0      4.0      3.0  \n",
       "Thursday        3.0       4.0      0.0      0.0      0.0      3.0      7.0  \n",
       "Tuesday         0.0       0.0      0.0      0.0      0.0      0.0      0.0  \n",
       "Wednesday       6.0       3.0      0.0      0.0      0.0      2.0      0.0  \n",
       "\n",
       "[7 rows x 22 columns]"
      ]
     },
     "execution_count": 95,
     "metadata": {},
     "output_type": "execute_result"
    }
   ],
   "source": [
    "pv = pd.pivot_table(df,index=\"day_name\",columns='hour22',values='msg1',aggfunc='count').fillna(0)\n",
    "pv"
   ]
  },
  {
   "cell_type": "code",
   "execution_count": 96,
   "id": "ff91589a",
   "metadata": {},
   "outputs": [
    {
     "data": {
      "text/plain": [
       "<AxesSubplot:xlabel='hour22', ylabel='day_name'>"
      ]
     },
     "execution_count": 96,
     "metadata": {},
     "output_type": "execute_result"
    },
    {
     "data": {
      "image/png": "[encoded data removed]",
      "text/plain": [
       "<Figure size 432x288 with 2 Axes>"
      ]
     },
     "metadata": {},
     "output_type": "display_data"
    }
   ],
   "source": [
    "sns.heatmap(pv)"
   ]
  },
  {
   "cell_type": "code",
   "execution_count": 98,
   "id": "9df9015c",
   "metadata": {},
   "outputs": [],
   "source": [
    "from vaderSentiment.vaderSentiment import SentimentIntensityAnalyzer"
   ]
  },
  {
   "cell_type": "code",
   "execution_count": 99,
   "id": "d35082bc",
   "metadata": {},
   "outputs": [],
   "source": [
    "obj=SentimentIntensityAnalyzer()"
   ]
  },
  {
   "cell_type": "code",
   "execution_count": 100,
   "id": "2f38ab2d",
   "metadata": {},
   "outputs": [
    {
     "data": {
      "text/plain": [
       "{'neg': 0.429, 'neu': 0.571, 'pos': 0.0, 'compound': -0.6705}"
      ]
     },
     "execution_count": 100,
     "metadata": {},
     "output_type": "execute_result"
    }
   ],
   "source": [
    "obj.polarity_scores(\"you will be killed by our company\")"
   ]
  },
  {
   "cell_type": "code",
   "execution_count": 101,
   "id": "52a63521",
   "metadata": {},
   "outputs": [
    {
     "data": {
      "text/plain": [
       "'naam saheparinde face_with_tears_of_joywinking_face_with_tongueface_with_tears_of_joywinking_face_with_tongueface_with_tears_of_joycoolguys fhumghum *phone pics baaki jagah bhejunga tumheface_with_tears_of_joygrinning_face_with_sweatbeaming_face_with_smiling_eyessorry video call paya kuki netwrok aarhekoini smiling_face_with_sunglassesphoto dekhkr enjoy lengevictory_handlight_skin_tonevictory_handlight_skin_tonecat_with_tears_of_joybaaki dikhaunga aajane passbeaming_face_with_smiling_eyesface_with_tears_of_joyjagahalwar ghum dalabdia bdiaaagrinning_face_with_sweathugging_faceyuvraj virtually ghum liyezany_face photosni...beaming_face_with_smiling_eyesstar-strucksmiling_face_with_halocool_buttonface_with_tears_of_joysexy viewwhannstar-struckhanna, badi lakepic credit face_with_tears_of_joyface_with_tears_of_joyhaha okyyykaam hogya ka?nopesloudly_crying_faceface_with_tears_of_joykro kro aaram seface_with_tears_of_joyface_with_tears_of_joyhaha yahe passsakshi bhejataki laga iconwinking_fa'"
      ]
     },
     "execution_count": 101,
     "metadata": {},
     "output_type": "execute_result"
    }
   ],
   "source": [
    "l = ''.join(temp['msg22'])\n",
    "l[:1000]"
   ]
  },
  {
   "cell_type": "code",
   "execution_count": 102,
   "id": "37450f27",
   "metadata": {},
   "outputs": [
    {
     "data": {
      "text/plain": [
       "{'neg': 0.014, 'neu': 0.736, 'pos': 0.25, 'compound': 0.9994}"
      ]
     },
     "execution_count": 102,
     "metadata": {},
     "output_type": "execute_result"
    }
   ],
   "source": [
    "a = obj.polarity_scores(l)\n",
    "a"
   ]
  },
  {
   "cell_type": "code",
   "execution_count": 103,
   "id": "41f75199",
   "metadata": {},
   "outputs": [
    {
     "data": {
      "text/plain": [
       "0.25"
      ]
     },
     "execution_count": 103,
     "metadata": {},
     "output_type": "execute_result"
    }
   ],
   "source": [
    "obj.polarity_scores(l)['pos']"
   ]
  },
  {
   "cell_type": "code",
   "execution_count": 104,
   "id": "c66643ee",
   "metadata": {},
   "outputs": [
    {
     "name": "stdout",
     "output_type": "stream",
     "text": [
      "25.0%\n"
     ]
    }
   ],
   "source": [
    "print(str(a['pos']*100) + \"%\" )"
   ]
  },
  {
   "cell_type": "code",
   "execution_count": 105,
   "id": "39148c46",
   "metadata": {},
   "outputs": [
    {
     "data": {
      "text/plain": [
       "25.0"
      ]
     },
     "execution_count": 105,
     "metadata": {},
     "output_type": "execute_result"
    }
   ],
   "source": [
    "round(a['pos']*100,2)"
   ]
  },
  {
   "cell_type": "code",
   "execution_count": null,
   "id": "cedf8ed6",
   "metadata": {},
   "outputs": [],
   "source": []
  },
  {
   "cell_type": "code",
   "execution_count": null,
   "id": "8a7f9f36",
   "metadata": {},
   "outputs": [],
   "source": []
  }
 ],
 "metadata": {
  "kernelspec": {
   "display_name": "Python 3",
   "language": "python",
   "name": "python3"
  },
  "language_info": {
   "codemirror_mode": {
    "name": "ipython",
    "version": 3
   },
   "file_extension": ".py",
   "mimetype": "text/x-python",
   "name": "python",
   "nbconvert_exporter": "python",
   "pygments_lexer": "ipython3",
   "version": "3.8.8"
  }
 },
 "nbformat": 4,
 "nbformat_minor": 5
}
